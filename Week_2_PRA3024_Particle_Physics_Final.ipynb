{
  "nbformat": 4,
  "nbformat_minor": 0,
  "metadata": {
    "colab": {
      "provenance": [],
      "mount_file_id": "1nwEB_iQ88S1oJqEMsXVAOvHJeXYcdQbK",
      "authorship_tag": "ABX9TyOFni1Uq2gc/Vpw3cctoVsM",
      "include_colab_link": true
    },
    "kernelspec": {
      "name": "python3",
      "display_name": "Python 3"
    },
    "language_info": {
      "name": "python"
    }
  },
  "cells": [
    {
      "cell_type": "markdown",
      "metadata": {
        "id": "view-in-github",
        "colab_type": "text"
      },
      "source": [
        "<a href=\"https://colab.research.google.com/github/LisavanEijk/PRA3024/blob/master/Week_2_PRA3024_Particle_Physics_Final.ipynb\" target=\"_parent\"><img src=\"https://colab.research.google.com/assets/colab-badge.svg\" alt=\"Open In Colab\"/></a>"
      ]
    },
    {
      "cell_type": "markdown",
      "source": [
        "This is my submission for the first graded assignment of PRA3024, the particle physics assignment of week 2. \n",
        "Made by: Lisa van Eijk\n",
        "Course: PRA3024"
      ],
      "metadata": {
        "id": "3q3OBXjhm0dN"
      }
    },
    {
      "cell_type": "code",
      "execution_count": 1,
      "metadata": {
        "colab": {
          "base_uri": "https://localhost:8080/"
        },
        "id": "Z9IF4ygtllro",
        "outputId": "b6aad05f-4447-478b-9f22-72b77fa14b6e"
      },
      "outputs": [
        {
          "output_type": "stream",
          "name": "stdout",
          "text": [
            "Looking in indexes: https://pypi.org/simple, https://us-python.pkg.dev/colab-wheels/public/simple/\n",
            "Collecting uproot\n",
            "  Downloading uproot-5.0.3-py3-none-any.whl (328 kB)\n",
            "\u001b[2K     \u001b[90m━━━━━━━━━━━━━━━━━━━━━━━━━━━━━━━━━━━━━━━\u001b[0m \u001b[32m328.4/328.4 KB\u001b[0m \u001b[31m5.2 MB/s\u001b[0m eta \u001b[36m0:00:00\u001b[0m\n",
            "\u001b[?25hCollecting awkward\n",
            "  Downloading awkward-2.0.8-py3-none-any.whl (583 kB)\n",
            "\u001b[2K     \u001b[90m━━━━━━━━━━━━━━━━━━━━━━━━━━━━━━━━━━━━━━\u001b[0m \u001b[32m583.2/583.2 KB\u001b[0m \u001b[31m17.4 MB/s\u001b[0m eta \u001b[36m0:00:00\u001b[0m\n",
            "\u001b[?25hCollecting lz4\n",
            "  Downloading lz4-4.3.2-cp38-cp38-manylinux_2_17_x86_64.manylinux2014_x86_64.whl (1.3 MB)\n",
            "\u001b[2K     \u001b[90m━━━━━━━━━━━━━━━━━━━━━━━━━━━━━━━━━━━━━━━━\u001b[0m \u001b[32m1.3/1.3 MB\u001b[0m \u001b[31m40.6 MB/s\u001b[0m eta \u001b[36m0:00:00\u001b[0m\n",
            "\u001b[?25hCollecting xxhash\n",
            "  Downloading xxhash-3.2.0-cp38-cp38-manylinux_2_17_x86_64.manylinux2014_x86_64.whl (213 kB)\n",
            "\u001b[2K     \u001b[90m━━━━━━━━━━━━━━━━━━━━━━━━━━━━━━━━━━━━━━\u001b[0m \u001b[32m213.0/213.0 KB\u001b[0m \u001b[31m11.5 MB/s\u001b[0m eta \u001b[36m0:00:00\u001b[0m\n",
            "\u001b[?25hRequirement already satisfied: packaging in /usr/local/lib/python3.8/dist-packages (from uproot) (23.0)\n",
            "Requirement already satisfied: numpy in /usr/local/lib/python3.8/dist-packages (from uproot) (1.22.4)\n",
            "Requirement already satisfied: importlib-resources in /usr/local/lib/python3.8/dist-packages (from awkward) (5.12.0)\n",
            "Requirement already satisfied: typing-extensions>=4.1.0 in /usr/local/lib/python3.8/dist-packages (from awkward) (4.5.0)\n",
            "Collecting awkward-cpp==9\n",
            "  Downloading awkward_cpp-9-cp38-cp38-manylinux_2_17_x86_64.manylinux2014_x86_64.whl (1.1 MB)\n",
            "\u001b[2K     \u001b[90m━━━━━━━━━━━━━━━━━━━━━━━━━━━━━━━━━━━━━━━━\u001b[0m \u001b[32m1.1/1.1 MB\u001b[0m \u001b[31m13.5 MB/s\u001b[0m eta \u001b[36m0:00:00\u001b[0m\n",
            "\u001b[?25hRequirement already satisfied: zipp>=3.1.0 in /usr/local/lib/python3.8/dist-packages (from importlib-resources->awkward) (3.14.0)\n",
            "Installing collected packages: xxhash, lz4, awkward-cpp, awkward, uproot\n",
            "Successfully installed awkward-2.0.8 awkward-cpp-9 lz4-4.3.2 uproot-5.0.3 xxhash-3.2.0\n",
            "Looking in indexes: https://pypi.org/simple, https://us-python.pkg.dev/colab-wheels/public/simple/\n",
            "Collecting lmfit\n",
            "  Downloading lmfit-1.1.0-py3-none-any.whl (90 kB)\n",
            "\u001b[2K     \u001b[90m━━━━━━━━━━━━━━━━━━━━━━━━━━━━━━━━━━━━━━━━\u001b[0m \u001b[32m90.4/90.4 KB\u001b[0m \u001b[31m3.1 MB/s\u001b[0m eta \u001b[36m0:00:00\u001b[0m\n",
            "\u001b[?25hCollecting uncertainties>=3.1.4\n",
            "  Downloading uncertainties-3.1.7-py2.py3-none-any.whl (98 kB)\n",
            "\u001b[2K     \u001b[90m━━━━━━━━━━━━━━━━━━━━━━━━━━━━━━━━━━━━━━━━\u001b[0m \u001b[32m98.4/98.4 KB\u001b[0m \u001b[31m10.1 MB/s\u001b[0m eta \u001b[36m0:00:00\u001b[0m\n",
            "\u001b[?25hRequirement already satisfied: numpy>=1.19 in /usr/local/lib/python3.8/dist-packages (from lmfit) (1.22.4)\n",
            "Collecting asteval>=0.9.28\n",
            "  Downloading asteval-0.9.29-py3-none-any.whl (18 kB)\n",
            "Requirement already satisfied: scipy>=1.6 in /usr/local/lib/python3.8/dist-packages (from lmfit) (1.7.3)\n",
            "Requirement already satisfied: future in /usr/local/lib/python3.8/dist-packages (from uncertainties>=3.1.4->lmfit) (0.16.0)\n",
            "Installing collected packages: uncertainties, asteval, lmfit\n",
            "Successfully installed asteval-0.9.29 lmfit-1.1.0 uncertainties-3.1.7\n"
          ]
        }
      ],
      "source": [
        "# Installing neccessary packages to run the code. \n",
        "!pip install uproot awkward lz4 xxhash\n",
        "!pip install lmfit"
      ]
    },
    {
      "cell_type": "markdown",
      "source": [
        "This block imports all neccessary packages and imports the magnet down file from my drive.  "
      ],
      "metadata": {
        "id": "F1vnX5T6nCQi"
      }
    },
    {
      "cell_type": "code",
      "source": [
        "# Importing packages. \n",
        "import uproot\n",
        "from numpy import *\n",
        "import matplotlib.pyplot as plt\n",
        "from lmfit.models import GaussianModel, ExponentialModel\n",
        "\n",
        "# Importing MagnetUp file from my drive. This part should be changed depending on where you have saved the MagnetUp file. \n",
        "f=uproot.open(\"/content/drive/MyDrive/B2HHH_MagnetUp.root\")\n",
        "f.keys()\n"
      ],
      "metadata": {
        "colab": {
          "base_uri": "https://localhost:8080/"
        },
        "id": "9InEsQGllwDB",
        "outputId": "a2e50908-17e9-4ff9-bdbf-9141ee827665"
      },
      "execution_count": 2,
      "outputs": [
        {
          "output_type": "execute_result",
          "data": {
            "text/plain": [
              "['DecayTree;1']"
            ]
          },
          "metadata": {},
          "execution_count": 2
        }
      ]
    },
    {
      "cell_type": "markdown",
      "source": [
        "The following three blocks are copied from the link in the announcement, since they showed me how to see which variables are in the magnet down file, as well as how to access these variables. "
      ],
      "metadata": {
        "id": "_RyiNEJEIHVs"
      }
    },
    {
      "cell_type": "code",
      "source": [
        "f[\"DecayTree\"].show()"
      ],
      "metadata": {
        "colab": {
          "base_uri": "https://localhost:8080/"
        },
        "id": "KTtnqA43l1EU",
        "outputId": "d4e87cfc-14e7-44a5-d287-bc452edc042d"
      },
      "execution_count": 3,
      "outputs": [
        {
          "output_type": "stream",
          "name": "stdout",
          "text": [
            "name                 | typename                 | interpretation                \n",
            "---------------------+--------------------------+-------------------------------\n",
            "B_FlightDistance     | double                   | AsDtype('>f8')\n",
            "B_VertexChi2         | double                   | AsDtype('>f8')\n",
            "H1_PX                | double                   | AsDtype('>f8')\n",
            "H1_PY                | double                   | AsDtype('>f8')\n",
            "H1_PZ                | double                   | AsDtype('>f8')\n",
            "H1_ProbK             | double                   | AsDtype('>f8')\n",
            "H1_ProbPi            | double                   | AsDtype('>f8')\n",
            "H1_Charge            | int32_t                  | AsDtype('>i4')\n",
            "H1_IPChi2            | double                   | AsDtype('>f8')\n",
            "H1_isMuon            | int32_t                  | AsDtype('>i4')\n",
            "H2_PX                | double                   | AsDtype('>f8')\n",
            "H2_PY                | double                   | AsDtype('>f8')\n",
            "H2_PZ                | double                   | AsDtype('>f8')\n",
            "H2_ProbK             | double                   | AsDtype('>f8')\n",
            "H2_ProbPi            | double                   | AsDtype('>f8')\n",
            "H2_Charge            | int32_t                  | AsDtype('>i4')\n",
            "H2_IPChi2            | double                   | AsDtype('>f8')\n",
            "H2_isMuon            | int32_t                  | AsDtype('>i4')\n",
            "H3_PX                | double                   | AsDtype('>f8')\n",
            "H3_PY                | double                   | AsDtype('>f8')\n",
            "H3_PZ                | double                   | AsDtype('>f8')\n",
            "H3_ProbK             | double                   | AsDtype('>f8')\n",
            "H3_ProbPi            | double                   | AsDtype('>f8')\n",
            "H3_Charge            | int32_t                  | AsDtype('>i4')\n",
            "H3_IPChi2            | double                   | AsDtype('>f8')\n",
            "H3_isMuon            | int32_t                  | AsDtype('>i4')\n"
          ]
        }
      ]
    },
    {
      "cell_type": "code",
      "source": [
        "f[\"DecayTree/H1_PX\"].array()"
      ],
      "metadata": {
        "colab": {
          "base_uri": "https://localhost:8080/",
          "height": 399
        },
        "id": "o-1b0TEpmlHO",
        "outputId": "a6e62f83-3baa-4730-c898-a93ca6269145"
      },
      "execution_count": 4,
      "outputs": [
        {
          "output_type": "execute_result",
          "data": {
            "text/html": [
              "<pre>[1.04e+03,\n",
              " -318,\n",
              " -97.8,\n",
              " -528,\n",
              " -61.9,\n",
              " -262,\n",
              " -2.28e+03,\n",
              " -2.28e+03,\n",
              " -2.28e+03,\n",
              " -1.79e+03,\n",
              " ...,\n",
              " 997,\n",
              " 98.9,\n",
              " 1.75e+03,\n",
              " 3.49e+03,\n",
              " 3.63e+03,\n",
              " -931,\n",
              " 127,\n",
              " 1.47e+03,\n",
              " 817]\n",
              "-----------------------\n",
              "type: 3420295 * float64</pre>"
            ],
            "text/plain": [
              "<Array [1.04e+03, -318, -97.8, ..., 1.47e+03, 817] type='3420295 * float64'>"
            ]
          },
          "metadata": {},
          "execution_count": 4
        }
      ]
    },
    {
      "cell_type": "code",
      "source": [
        "\n",
        "f[\"DecayTree/H1_PX\"].array(library=\"np\")"
      ],
      "metadata": {
        "colab": {
          "base_uri": "https://localhost:8080/"
        },
        "id": "hzEYgwFOmvxV",
        "outputId": "7efcfcab-fd67-4ac1-a0b8-de70ce0076d5"
      },
      "execution_count": 5,
      "outputs": [
        {
          "output_type": "execute_result",
          "data": {
            "text/plain": [
              "array([1038.63435383, -318.15769589,  -97.80224766, ...,  126.55972473,\n",
              "       1469.84647106,  816.63465142])"
            ]
          },
          "metadata": {},
          "execution_count": 5
        }
      ]
    },
    {
      "cell_type": "markdown",
      "source": [
        "**Why are we here?**"
      ],
      "metadata": {
        "id": "GuVrHSuKWxUf"
      }
    },
    {
      "cell_type": "markdown",
      "source": [
        "From here, my code for the exercises from the assignment can be found. \n",
        "The first block calculates the total momentum of daughter particle 1 (H1) and plots this as a histogram "
      ],
      "metadata": {
        "id": "ERyEY837sr-3"
      }
    },
    {
      "cell_type": "code",
      "source": [
        "# Getting the momenta of daughter particle 1 in x, y and z direction from the decay tree and putting them in variables. \n",
        "H1_PX=f[\"DecayTree/H1_PX\"].array(library=\"np\")\n",
        "H1_PY=f[\"DecayTree/H1_PY\"].array(library=\"np\")\n",
        "H1_PZ=f[\"DecayTree/H1_PZ\"].array(library=\"np\")\n",
        "# Calculating the total momentum of daughter particle 1. \n",
        "H1_Ptot=sqrt(H1_PX**2 + H1_PY**2 + H1_PZ**2)\n",
        "# Plotting the total momentum of daughter particle 1 as a histogram. \n",
        "plt.hist(H1_Ptot, 300, (0,300000), histtype=u'step');\n",
        "plt.title(\"Total momentum daughter particle 1\")\n",
        "plt.xlabel(\"Momentum daughter particle\")\n",
        "plt.ylabel(\"Events\")\n"
      ],
      "metadata": {
        "colab": {
          "base_uri": "https://localhost:8080/",
          "height": 312
        },
        "id": "H0-TPAWgq8dL",
        "outputId": "7b68fd0d-b59e-472f-dc8b-9d4228f3bf17"
      },
      "execution_count": 6,
      "outputs": [
        {
          "output_type": "execute_result",
          "data": {
            "text/plain": [
              "Text(0, 0.5, 'Events')"
            ]
          },
          "metadata": {},
          "execution_count": 6
        },
        {
          "output_type": "display_data",
          "data": {
            "text/plain": [
              "<Figure size 432x288 with 1 Axes>"
            ],
            "image/png": "[encoded data removed]"
          },
          "metadata": {
            "needs_background": "light"
          }
        }
      ]
    },
    {
      "cell_type": "markdown",
      "source": [
        " This block plots the momentum of the mother particle (M_Ptot)"
      ],
      "metadata": {
        "id": "00uxqU2JwS1k"
      }
    },
    {
      "cell_type": "code",
      "source": [
        "# Getting the momenta of daughter particles 2 and 3 as variables.\n",
        "H2_PX = f[\"DecayTree/H2_PX\"].array(library=\"np\")\n",
        "H3_PX = f[\"DecayTree/H3_PX\"].array(library=\"np\")\n",
        "H2_PY = f[\"DecayTree/H2_PY\"].array(library=\"np\")\n",
        "H3_PY = f[\"DecayTree/H3_PY\"].array(library=\"np\")\n",
        "H2_PZ = f[\"DecayTree/H2_PZ\"].array(library=\"np\")\n",
        "H3_PZ = f[\"DecayTree/H3_PZ\"].array(library=\"np\")\n",
        "# Calculation the momentum of the mother particle.\n",
        "M_Ptot = sqrt((H1_PX + H2_PX + H3_PX)**2 + (H1_PY + H2_PY + H3_PY)**2 + (H1_PZ + H2_PZ + H3_PZ)**2)\n",
        "# Plotting the momentum of the mother particle.\n",
        "plt.hist(M_Ptot, 300, (0,500000), histtype=u'step');\n",
        "plt.title(\"Total momentum mother particle\")\n",
        "plt.xlabel(\"Momentum mother particle\")\n",
        "plt.ylabel(\"Events\")"
      ],
      "metadata": {
        "colab": {
          "base_uri": "https://localhost:8080/",
          "height": 312
        },
        "id": "rmWUzO_3wXpd",
        "outputId": "fc92aea5-890b-45a3-8087-fe42e8598220"
      },
      "execution_count": 7,
      "outputs": [
        {
          "output_type": "execute_result",
          "data": {
            "text/plain": [
              "Text(0, 0.5, 'Events')"
            ]
          },
          "metadata": {},
          "execution_count": 7
        },
        {
          "output_type": "display_data",
          "data": {
            "text/plain": [
              "<Figure size 432x288 with 1 Axes>"
            ],
            "image/png": "[encoded data removed]"
          },
          "metadata": {
            "needs_background": "light"
          }
        }
      ]
    },
    {
      "cell_type": "markdown",
      "source": [
        " This block plots the range of masses for the B-meson. "
      ],
      "metadata": {
        "id": "MFDEFppeJuL0"
      }
    },
    {
      "cell_type": "code",
      "source": [
        "# Energies of daughter particles 1, 2 and 3, assuming the mass of each daughter particle is that of a Kaon: 497.61 MeV (in natural units)(Binas 6th edition, table 26C). \n",
        "# Calculating the energy of each daughter particle. \n",
        "E1 = sqrt(497.61**2 + (sqrt((H1_PX**2) + (H1_PY**2) + (H1_PZ**2)))**2)\n",
        "E2 = sqrt(497.61**2 + (sqrt((H2_PX**2) + (H2_PY**2) + (H2_PZ**2)))**2)\n",
        "E3 = sqrt(497.61**2 + (sqrt((H3_PX**2) + (H3_PY**2) + (H3_PZ**2)))**2)\n",
        "# Calculating the energy of the B-meson (mother particle). \n",
        "Bmeson_E = E1 + E2 + E3\n",
        "# Calculating the mass of the B-meson\n",
        "Bmeson_M = sqrt(Bmeson_E**2 - M_Ptot**2)\n",
        "# Plotting the mass of the B-meson\n",
        "plt.hist(Bmeson_M, 300, (0,7000), histtype=u'step');\n",
        "plt.title(\"Mass distribution B-meson\")\n",
        "plt.xlabel(\"B-meson mass (MeV)\")\n",
        "plt.ylabel(\"Events\")\n",
        "# The graph of the mass of the B-meson should ideally be a peak at 5279 MeV (Binas 6th edition, table 26C). However, the mass of the B-meson is very spread out, which it should not be. This is because also muons are taken into account in the calculation, while they should not be taken into account. "
      ],
      "metadata": {
        "id": "CZQ5F97p1WLY",
        "colab": {
          "base_uri": "https://localhost:8080/",
          "height": 312
        },
        "outputId": "fb956f48-e764-4cbd-bd98-83ddfe586566"
      },
      "execution_count": 8,
      "outputs": [
        {
          "output_type": "execute_result",
          "data": {
            "text/plain": [
              "Text(0, 0.5, 'Events')"
            ]
          },
          "metadata": {},
          "execution_count": 8
        },
        {
          "output_type": "display_data",
          "data": {
            "text/plain": [
              "<Figure size 432x288 with 1 Axes>"
            ],
            "image/png": "[encoded data removed]"
          },
          "metadata": {
            "needs_background": "light"
          }
        }
      ]
    },
    {
      "cell_type": "markdown",
      "source": [
        "The first two blocks plot the probability whether each daughter particle is a Kaon or Pion. The third block plots B_VertexChi2 for all particles. "
      ],
      "metadata": {
        "id": "bafN2hrURJze"
      }
    },
    {
      "cell_type": "code",
      "source": [
        "# Getting the probabilities as variables. \n",
        "H1_ProbK = f[\"DecayTree/H1_ProbK\"].array(library=\"np\")\n",
        "H2_ProbK = f[\"DecayTree/H2_ProbK\"].array(library=\"np\")\n",
        "H3_ProbK = f[\"DecayTree/H3_ProbK\"].array(library=\"np\")\n",
        "H1_ProbPi = f[\"DecayTree/H1_ProbPi\"].array(library=\"np\")\n",
        "H2_ProbPi = f[\"DecayTree/H2_ProbPi\"].array(library=\"np\")\n",
        "H3_ProbPi = f[\"DecayTree/H3_ProbPi\"].array(library=\"np\")\n",
        "\n",
        "# First block: Plotting the probability of each daughter particle being a Kaon (in one plot)\n",
        "plt.hist(H1_ProbK, 100, (0,1), histtype=u'step');\n",
        "plt.hist(H2_ProbK, 100, (0,1), histtype=u'step');\n",
        "plt.hist(H3_ProbK, 100, (0,1), histtype=u'step');\n",
        "plt.title(\"Probability daughter particle = Kaon\")\n",
        "plt.legend(['H1_ProbK', 'H2_ProbK', 'H3_ProbK'])\n",
        "plt.xlabel(\"Probability is Kaon\")\n",
        "plt.ylabel(\"Events\")\n",
        "plt.show()\n"
      ],
      "metadata": {
        "colab": {
          "base_uri": "https://localhost:8080/",
          "height": 295
        },
        "id": "LAAw4fSUTQ_C",
        "outputId": "53864320-9c92-4a85-9be7-df02c7abb201"
      },
      "execution_count": 9,
      "outputs": [
        {
          "output_type": "display_data",
          "data": {
            "text/plain": [
              "<Figure size 432x288 with 1 Axes>"
            ],
            "image/png": "[encoded data removed]"
          },
          "metadata": {
            "needs_background": "light"
          }
        }
      ]
    },
    {
      "cell_type": "code",
      "source": [
        "# Second block: Plotting the probability of each daughter particle being a Pion (in one plot)\n",
        "plt.hist(H1_ProbPi, 100, (0,1), histtype=u'step');\n",
        "plt.hist(H2_ProbPi, 100, (0,1), histtype=u'step');\n",
        "plt.hist(H3_ProbPi, 100, (0,1), histtype=u'step');\n",
        "plt.title(\"Probability daughter particle = Pion\")\n",
        "plt.legend(['H1_ProbPi', 'H2_ProbPi', 'H3_ProbPi'])\n",
        "plt.xlabel(\"Probability is Pion\")\n",
        "plt.ylabel(\"Events\")\n",
        "plt.show()"
      ],
      "metadata": {
        "colab": {
          "base_uri": "https://localhost:8080/",
          "height": 295
        },
        "id": "AfZKFafxWr12",
        "outputId": "955bae20-db5c-491e-c5da-d5746282648d"
      },
      "execution_count": 10,
      "outputs": [
        {
          "output_type": "display_data",
          "data": {
            "text/plain": [
              "<Figure size 432x288 with 1 Axes>"
            ],
            "image/png": "[encoded data removed]"
          },
          "metadata": {
            "needs_background": "light"
          }
        }
      ]
    },
    {
      "cell_type": "code",
      "source": [
        "# Third block: Plotting B_VertexChi2\n",
        "B_VertexChi2 = f[\"DecayTree/B_VertexChi2\"].array(library=\"np\")\n",
        "plt.hist(B_VertexChi2, 300, (0,10), histtype=u'step');\n",
        "plt.title(\"B_VertexChi2\")\n",
        "plt.xlabel(\"B_VertexChi\")\n",
        "plt.ylabel(\"Events\")"
      ],
      "metadata": {
        "colab": {
          "base_uri": "https://localhost:8080/",
          "height": 313
        },
        "id": "FzccKmDhaamK",
        "outputId": "4b52cc59-3f21-4546-a411-f1c5e6d30463"
      },
      "execution_count": 11,
      "outputs": [
        {
          "output_type": "execute_result",
          "data": {
            "text/plain": [
              "Text(0, 0.5, 'Events')"
            ]
          },
          "metadata": {},
          "execution_count": 11
        },
        {
          "output_type": "display_data",
          "data": {
            "text/plain": [
              "<Figure size 432x288 with 1 Axes>"
            ],
            "image/png": "[encoded data removed]"
          },
          "metadata": {
            "needs_background": "light"
          }
        }
      ]
    },
    {
      "cell_type": "markdown",
      "source": [
        "This block makes the pre-selection and applies this to the new decay tree 'cut_tree'.  "
      ],
      "metadata": {
        "id": "bsIsFJawcVV6"
      }
    },
    {
      "cell_type": "code",
      "source": [
        "# Since the B-meson should decay into three kaons, only events with a high probability of producing three kaons were taken into account. \n",
        "# Since no muons should be produced by the B-meson decay, any events producing muons were discarded. \n",
        "cut_tree = f[\"DecayTree\"].arrays(cut = \"(H1_ProbK>0.7) & (H2_ProbK>0.7) & (H3_ProbK>0.7) & (H1_isMuon == 0) & (H2_isMuon == 0) & (H3_isMuon == 0)\", library = \"np\")\n",
        "# Checking which keys are in the cut_tree, as well as their values, to see if the cut worked. \n",
        "dict(cut_tree)\n",
        "\n",
        "# Source for making cuts to data in uproot: https://github.com/scikit-hep/uproot5/issues/194"
      ],
      "metadata": {
        "id": "vQegeE2och4Y",
        "colab": {
          "base_uri": "https://localhost:8080/"
        },
        "outputId": "34a47b8d-883a-495e-ac5e-20f038001590"
      },
      "execution_count": 12,
      "outputs": [
        {
          "output_type": "execute_result",
          "data": {
            "text/plain": [
              "{'B_FlightDistance': array([10.42814043, 16.53185828,  3.50934596, ..., 10.08601839,\n",
              "         7.672519  ,  8.27370913]),\n",
              " 'B_VertexChi2': array([ 4.05694746, 11.59338828,  5.73939931, ...,  2.4205464 ,\n",
              "         2.18526257,  1.87422042]),\n",
              " 'H1_PX': array([-4168.05553893,  1493.04861548,   123.87380699, ...,\n",
              "          -66.22334065, -1052.43739084,  -354.0472858 ]),\n",
              " 'H1_PY': array([ -704.95391892,  1944.60092468,   856.29045918, ...,\n",
              "        -1333.01607027,  -520.18190938,   311.49559592]),\n",
              " 'H1_PZ': array([24548.76657597, 33003.9153677 , 51956.56661619, ...,\n",
              "        11125.03706788, 29524.78927704, 11389.85202561]),\n",
              " 'H1_ProbK': array([0.77119875, 0.9535116 , 0.94048375, ..., 0.75686991, 0.94454801,\n",
              "        0.7964499 ]),\n",
              " 'H1_ProbPi': array([0.0517258 , 0.1047684 , 0.07822052, ..., 0.06692886, 0.10303029,\n",
              "        0.06177372]),\n",
              " 'H1_Charge': array([-1, -1, -1, ..., -1,  1,  1], dtype=int32),\n",
              " 'H1_IPChi2': array([1002.65707543, 1731.92356333,    7.00589361, ...,  692.97852224,\n",
              "         266.74239038,  159.08124845]),\n",
              " 'H1_isMuon': array([0, 0, 0, ..., 0, 0, 0], dtype=int32),\n",
              " 'H2_PX': array([-3393.63609278,   373.61399426,   110.75338646, ...,\n",
              "          108.85302791,  -880.52373648, -2568.17687602]),\n",
              " 'H2_PY': array([ -706.87450833,   843.61454776,  1070.97586428, ...,\n",
              "        -2101.04805779,  2219.03591937,  -486.92938407]),\n",
              " 'H2_PZ': array([19358.78744625, 30062.08475166, 24974.21172117, ...,\n",
              "        10413.39879757, 49063.32182206, 21515.92073519]),\n",
              " 'H2_ProbK': array([0.91799068, 0.86857909, 0.92060268, ..., 0.78597224, 0.97013074,\n",
              "        0.8226164 ]),\n",
              " 'H2_ProbPi': array([0.03871903, 0.03915682, 0.04173908, ..., 0.02307206, 0.11699855,\n",
              "        0.03207406]),\n",
              " 'H2_Charge': array([ 1,  1,  1, ...,  1, -1, -1], dtype=int32),\n",
              " 'H2_IPChi2': array([7.14174519e+02, 4.99998835e+02, 2.09042390e+00, ...,\n",
              "        2.05195497e+03, 9.89945693e+01, 3.61764183e+03]),\n",
              " 'H2_isMuon': array([0, 0, 0, ..., 0, 0, 0], dtype=int32),\n",
              " 'H3_PX': array([-8864.96249223,  4779.02922009,  1639.99796213, ...,\n",
              "        -5721.59934954, -3366.65452949,   379.53619494]),\n",
              " 'H3_PY': array([-7428.64029234,  -287.82986387,  2660.27589143, ...,\n",
              "        -4071.3301116 ,  1597.84386299, -3117.66841168]),\n",
              " 'H3_PZ': array([77446.17592252, 53908.49689377, 19441.34931353, ...,\n",
              "        34106.7602612 , 33861.38369673, 22329.65159301]),\n",
              " 'H3_ProbK': array([0.93457979, 0.84494984, 0.70213491, ..., 0.94053924, 0.79374051,\n",
              "        0.92973232]),\n",
              " 'H3_ProbPi': array([0.12872046, 0.06480291, 0.02864128, ..., 0.43527752, 0.0609262 ,\n",
              "        0.08182237]),\n",
              " 'H3_Charge': array([ 1,  1,  1, ...,  1, -1, -1], dtype=int32),\n",
              " 'H3_IPChi2': array([ 536.58511461, 3484.19302954,  888.53513389, ..., 2787.51160475,\n",
              "        1234.32469992, 2437.22640991]),\n",
              " 'H3_isMuon': array([0, 0, 0, ..., 0, 0, 0], dtype=int32)}"
            ]
          },
          "metadata": {},
          "execution_count": 12
        }
      ]
    },
    {
      "cell_type": "markdown",
      "source": [
        "This block plots the B-meson mass calculated via the uncut DecayTree and the B-meson mass calculated via the cut_tree. "
      ],
      "metadata": {
        "id": "-RW5W4677fsc"
      }
    },
    {
      "cell_type": "code",
      "source": [
        "# Getting the variables from the cut_tree.\n",
        "H1_PX_cut = cut_tree['H1_PX']\n",
        "H1_PY_cut = cut_tree['H1_PY']\n",
        "H1_PZ_cut = cut_tree['H1_PZ']\n",
        "H2_PX_cut = cut_tree['H2_PX']\n",
        "H2_PY_cut = cut_tree['H2_PY']\n",
        "H2_PZ_cut = cut_tree['H2_PZ']\n",
        "H3_PX_cut = cut_tree['H3_PX']\n",
        "H3_PY_cut = cut_tree['H3_PY']\n",
        "H3_PZ_cut = cut_tree['H3_PZ']\n",
        "# Energies of daughter particles 1, 2 and 3 after cut.\n",
        "E1_cut = sqrt(497.61**2 + (sqrt((H1_PX_cut**2) + (H1_PY_cut**2) + (H1_PZ_cut**2)))**2)\n",
        "E2_cut = sqrt(497.61**2 + (sqrt((H2_PX_cut**2) + (H2_PY_cut**2) + (H2_PZ_cut**2)))**2)\n",
        "E3_cut = sqrt(497.61**2 + (sqrt((H3_PX_cut**2) + (H3_PY_cut**2) + (H3_PZ_cut**2)))**2)\n",
        "# Energy of the B-meson after cut.\n",
        "Bmeson_E_cut = E1_cut + E2_cut + E3_cut\n",
        "# Mass of B-meson after cut.\n",
        "M_Ptot_cut = sqrt((H1_PX_cut + H2_PX_cut + H3_PX_cut)**2 + (H1_PY_cut + H2_PY_cut + H3_PY_cut)**2 + (H1_PZ_cut + H2_PZ_cut + H3_PZ_cut)**2)\n",
        "Bmeson_M_cut = sqrt(Bmeson_E_cut**2 - M_Ptot_cut**2)\n",
        "# Plotting mass B-meson. This was already calculated before. \n",
        "plt.hist(Bmeson_M, 300, (0,7000), histtype=u'step');\n",
        "# Plotting mass B-meson after cut. \n",
        "plt.hist(Bmeson_M_cut, 300, (0,7000), histtype=u'step');\n",
        "# Setting up legend, title and combining the plots. \n",
        "plt.title(\"B-meson mass before and after cut\")\n",
        "plt.legend(['B-meson mass before cut', 'B-meson mass after cut'])\n",
        "plt.xlabel(\"B-meson mass (MeV)\")\n",
        "plt.ylabel(\"Events\")\n",
        "plt.show()\n",
        "# This new peak is much more reasonable, since the mass of the B-meson should be around 5279 MeV (Binas 6th edition, table 26C) and it appears to be around that value on the histogram x-axis. "
      ],
      "metadata": {
        "colab": {
          "base_uri": "https://localhost:8080/",
          "height": 295
        },
        "id": "r6QLZgG-15bq",
        "outputId": "e235f67b-6f41-4f87-921c-8b229065acba"
      },
      "execution_count": 13,
      "outputs": [
        {
          "output_type": "display_data",
          "data": {
            "text/plain": [
              "<Figure size 432x288 with 1 Axes>"
            ],
            "image/png": "[encoded data removed]"
          },
          "metadata": {
            "needs_background": "light"
          }
        }
      ]
    },
    {
      "cell_type": "code",
      "source": [
        "# Since the graph after the cut is not very clearly visible in this combined histogram, the individual graph after the cut is shown again below. \n",
        "plt.hist(Bmeson_M_cut, 300, (0,7000), histtype=u'step');\n",
        "plt.title(\"B-meson mass after cut\")\n",
        "plt.xlabel(\"B-meson mass (MeV)\")\n",
        "plt.ylabel(\"Events\")"
      ],
      "metadata": {
        "colab": {
          "base_uri": "https://localhost:8080/",
          "height": 312
        },
        "id": "gb4Xs1F1ADnm",
        "outputId": "fa1378dc-c1f4-4de6-f445-99033f9cce81"
      },
      "execution_count": 14,
      "outputs": [
        {
          "output_type": "execute_result",
          "data": {
            "text/plain": [
              "Text(0, 0.5, 'Events')"
            ]
          },
          "metadata": {},
          "execution_count": 14
        },
        {
          "output_type": "display_data",
          "data": {
            "text/plain": [
              "<Figure size 432x288 with 1 Axes>"
            ],
            "image/png": "[encoded data removed]"
          },
          "metadata": {
            "needs_background": "light"
          }
        }
      ]
    },
    {
      "cell_type": "markdown",
      "source": [
        "**How do we count the number of events?**\n"
      ],
      "metadata": {
        "id": "cHU7IBWpW5l8"
      }
    },
    {
      "cell_type": "code",
      "source": [
        "# Getting x and y data from histogram\n",
        "ydata, xdata, unimportant = plt.hist(Bmeson_M_cut, 100)\n",
        "\n",
        "# Defining the gaussian model.  \n",
        "# Sources: https://lmfit.github.io/lmfit-py/builtin_models.html#gaussianmodel\n",
        "# https://stackoverflow.com/questions/50371428/scipy-curve-fit-raises-optimizewarning-covariance-of-the-parameters-could-not\n",
        "gaus_mod = GaussianModel(independent_vars=['x'], prefix = 'gaus_')\n",
        "model = gaus_mod\n",
        "# Setting initial values for the parameters of the gaussian model. \n",
        "params = model.make_params(gaus_amplitude = 1600, gaus_center = 5300, gaus_sigma = 3.0)\n",
        "# Since there is one more x data point than y data points, the last x data point is discarded. \n",
        "corr_xdata = xdata[:-1]\n",
        "# Fitting the model to the data to create the signal curve. \n",
        "gausFit = model.fit(ydata, params, x=corr_xdata)\n"
      ],
      "metadata": {
        "colab": {
          "base_uri": "https://localhost:8080/",
          "height": 265
        },
        "id": "LCiSLVSQYIkK",
        "outputId": "4c18b820-e070-487b-d16b-507b0dc06169"
      },
      "execution_count": 83,
      "outputs": [
        {
          "output_type": "display_data",
          "data": {
            "text/plain": [
              "<Figure size 432x288 with 1 Axes>"
            ],
            "image/png": "[encoded data removed]"
          },
          "metadata": {
            "needs_background": "light"
          }
        }
      ]
    },
    {
      "cell_type": "code",
      "source": [
        "# Plotting the signal fit against the Bmeson_M_cut graph\n",
        "plt.plot(corr_xdata, gausFit.best_fit)\n",
        "plt.hist(Bmeson_M_cut, 100);\n",
        "plt.title(\"Gaussian fit for the signal against the B-meson mass\")\n",
        "plt.legend(['Gaussian fit', 'Bmeson_M_cut'])\n",
        "plt.xlabel(\"B-meson mass (MeV)\")\n",
        "plt.ylabel(\"Events\")\n",
        "plt.show()"
      ],
      "metadata": {
        "colab": {
          "base_uri": "https://localhost:8080/",
          "height": 295
        },
        "id": "CrowE1M0L6oy",
        "outputId": "b46f3eba-411d-461a-ffa1-a6063089325e"
      },
      "execution_count": 84,
      "outputs": [
        {
          "output_type": "display_data",
          "data": {
            "text/plain": [
              "<Figure size 432x288 with 1 Axes>"
            ],
            "image/png": "[encoded data removed]"
          },
          "metadata": {
            "needs_background": "light"
          }
        }
      ]
    },
    {
      "cell_type": "code",
      "source": [
        "# Gaussian fit report. This report includes the normalisation component (gaus_amplitude), the error (presented to the right of gaus_amplitude, indicated with +/- in front) and the chi-square. \n",
        "print(gausFit.fit_report())"
      ],
      "metadata": {
        "colab": {
          "base_uri": "https://localhost:8080/"
        },
        "id": "XdHXwlefNBAW",
        "outputId": "92823b13-890f-4339-8dc5-170711a08326"
      },
      "execution_count": 85,
      "outputs": [
        {
          "output_type": "stream",
          "name": "stdout",
          "text": [
            "[[Model]]\n",
            "    Model(gaussian, prefix='gaus_')\n",
            "[[Fit Statistics]]\n",
            "    # fitting method   = leastsq\n",
            "    # function evals   = 48\n",
            "    # data points      = 100\n",
            "    # variables        = 3\n",
            "    chi-square         = 39606.6536\n",
            "    reduced chi-square = 408.316016\n",
            "    Akaike info crit   = 604.158222\n",
            "    Bayesian info crit = 611.973732\n",
            "    R-squared          = 0.97861849\n",
            "[[Variables]]\n",
            "    gaus_amplitude:  39653.5607 +/- 693.490000 (1.75%) (init = 1600)\n",
            "    gaus_center:     5282.54284 +/- 0.35809153 (0.01%) (init = 5300)\n",
            "    gaus_sigma:      17.7322697 +/- 0.35809178 (2.02%) (init = 3)\n",
            "    gaus_fwhm:       41.7563034 +/- 0.84324168 (2.02%) == '2.3548200*gaus_sigma'\n",
            "    gaus_height:     892.129601 +/- 15.6022633 (1.75%) == '0.3989423*gaus_amplitude/max(1e-15, gaus_sigma)'\n",
            "[[Correlations]] (unreported correlations are < 0.100)\n",
            "    C(gaus_amplitude, gaus_sigma) = 0.577\n"
          ]
        }
      ]
    },
    {
      "cell_type": "code",
      "source": [
        "# Defining the exponential model. \n",
        "exp_mod = ExponentialModel(independent_vars=['x'], prefix = 'exp_', nan_policy='raise')\n",
        "model2 = exp_mod\n",
        "# Setting initial values for the parameters of the exponential model. . \n",
        "params2 = model2.make_params(exp_amplitude = 100, exp_decay = 350)\n",
        "# Fitting the model to the data to create the noise curve. . \n",
        "expFit = model2.fit(ydata, params2, x=corr_xdata)\n"
      ],
      "metadata": {
        "id": "05RvUf0HlQR1"
      },
      "execution_count": 86,
      "outputs": []
    },
    {
      "cell_type": "code",
      "source": [
        "# Plotting the noise fit against the Bmeson_M_cut graph. \n",
        "plt.plot(corr_xdata, expFit.best_fit)\n",
        "plt.hist(Bmeson_M_cut, 100)\n",
        "plt.title(\"Exponential fit for the noise against the B-meson mass\")\n",
        "plt.legend(['Exponential fit', 'Bmeson_M_cut'])\n",
        "plt.xlabel(\"B-meson mass (MeV)\")\n",
        "plt.ylabel(\"Events\")\n",
        "plt.show()"
      ],
      "metadata": {
        "colab": {
          "base_uri": "https://localhost:8080/",
          "height": 295
        },
        "id": "6tKAVZADueQK",
        "outputId": "9013374f-414a-4e0a-9a19-ac803e49b4da"
      },
      "execution_count": 87,
      "outputs": [
        {
          "output_type": "display_data",
          "data": {
            "text/plain": [
              "<Figure size 432x288 with 1 Axes>"
            ],
            "image/png": "[encoded data removed]"
          },
          "metadata": {
            "needs_background": "light"
          }
        }
      ]
    },
    {
      "cell_type": "code",
      "source": [
        "print(expFit.fit_report())"
      ],
      "metadata": {
        "colab": {
          "base_uri": "https://localhost:8080/"
        },
        "id": "kHuyu2pb35Eh",
        "outputId": "86e63346-168d-4088-dabe-f8b2b4c9dd86"
      },
      "execution_count": 88,
      "outputs": [
        {
          "output_type": "stream",
          "name": "stdout",
          "text": [
            "[[Model]]\n",
            "    Model(exponential, prefix='exp_')\n",
            "[[Fit Statistics]]\n",
            "    # fitting method   = leastsq\n",
            "    # function evals   = 161\n",
            "    # data points      = 100\n",
            "    # variables        = 2\n",
            "    chi-square         = 1674454.49\n",
            "    reduced chi-square = 17086.2703\n",
            "    Akaike info crit   = 976.582781\n",
            "    Bayesian info crit = 981.793121\n",
            "    R-squared          = 0.09605172\n",
            "[[Variables]]\n",
            "    exp_amplitude:  14661446.2 +/- 81015736.7 (552.58%) (init = 100)\n",
            "    exp_decay:      438.016387 +/- 200.011165 (45.66%) (init = 350)\n",
            "[[Correlations]] (unreported correlations are < 0.100)\n",
            "    C(exp_amplitude, exp_decay) = -0.999\n"
          ]
        }
      ]
    },
    {
      "cell_type": "code",
      "source": [
        "# Combining the two fits. \n",
        "model3 = gaus_mod + exp_mod \n",
        "params3 = model3.make_params(gaus_amplitude = 1600, gaus_center = 5300, gaus_sigma = 3.0, exp_amplitude = 100, exp_decay = 350)\n",
        "completeFit = model3.fit(ydata, params3, x=corr_xdata)\n",
        "# Plotting the combined fit against the B-meson mass. \n",
        "plt.plot(corr_xdata, completeFit.best_fit)\n",
        "plt.hist(Bmeson_M_cut, 100)\n",
        "plt.title(\"Combined fit agains B-meson mass\")\n",
        "plt.legend(['Combined fit', 'Bmeson_M_cut'])\n",
        "plt.xlabel(\"B-meson mass (MeV)\")\n",
        "plt.ylabel(\"Events\")"
      ],
      "metadata": {
        "colab": {
          "base_uri": "https://localhost:8080/",
          "height": 312
        },
        "id": "PWYwNUnsvapu",
        "outputId": "c05d47df-83e7-4b92-915a-c4b84fb12808"
      },
      "execution_count": 89,
      "outputs": [
        {
          "output_type": "execute_result",
          "data": {
            "text/plain": [
              "Text(0, 0.5, 'Events')"
            ]
          },
          "metadata": {},
          "execution_count": 89
        },
        {
          "output_type": "display_data",
          "data": {
            "text/plain": [
              "<Figure size 432x288 with 1 Axes>"
            ],
            "image/png": "[encoded data removed]"
          },
          "metadata": {
            "needs_background": "light"
          }
        }
      ]
    },
    {
      "cell_type": "code",
      "source": [
        "print(completeFit.fit_report())"
      ],
      "metadata": {
        "colab": {
          "base_uri": "https://localhost:8080/"
        },
        "id": "eCPQd80A4ZX6",
        "outputId": "b27fae10-5cfe-4ff3-e540-c4d445fc9bdb"
      },
      "execution_count": 90,
      "outputs": [
        {
          "output_type": "stream",
          "name": "stdout",
          "text": [
            "[[Model]]\n",
            "    (Model(gaussian, prefix='gaus_') + Model(exponential, prefix='exp_'))\n",
            "[[Fit Statistics]]\n",
            "    # fitting method   = leastsq\n",
            "    # function evals   = 820\n",
            "    # data points      = 100\n",
            "    # variables        = 5\n",
            "    chi-square         = 6241.67650\n",
            "    reduced chi-square = 65.7018578\n",
            "    Akaike info crit   = 423.383391\n",
            "    Bayesian info crit = 436.409242\n",
            "    R-squared          = 0.99663045\n",
            "[[Variables]]\n",
            "    gaus_amplitude:  37483.1217 +/- 308.189284 (0.82%) (init = 1600)\n",
            "    gaus_center:     5282.64671 +/- 0.14311043 (0.00%) (init = 5300)\n",
            "    gaus_sigma:      17.0291027 +/- 0.14939533 (0.88%) (init = 3)\n",
            "    gaus_fwhm:       40.1004716 +/- 0.35179911 (0.88%) == '2.3548200*gaus_sigma'\n",
            "    gaus_height:     878.120420 +/- 6.48744287 (0.74%) == '0.3989423*gaus_amplitude/max(1e-15, gaus_sigma)'\n",
            "    exp_amplitude:   4.6161e+11 +/- 9.6233e+11 (208.47%) (init = 100)\n",
            "    exp_decay:       222.477480 +/- 20.0669167 (9.02%) (init = 350)\n",
            "[[Correlations]] (unreported correlations are < 0.100)\n",
            "    C(exp_amplitude, exp_decay)      = -1.000\n",
            "    C(gaus_amplitude, gaus_sigma)    = 0.624\n",
            "    C(gaus_amplitude, exp_decay)     = -0.362\n",
            "    C(gaus_amplitude, exp_amplitude) = 0.355\n",
            "    C(gaus_sigma, exp_decay)         = -0.222\n",
            "    C(gaus_sigma, exp_amplitude)     = 0.218\n"
          ]
        }
      ]
    },
    {
      "cell_type": "markdown",
      "source": [
        "Since the normalisation component of this gaussian distribution is the gaus_amplitude (https://lmfit.github.io/lmfit-py/builtin_models.html#gaussianmodel), the number of events is equal to the gaus_amplitude: so the number of events is equal to 37483, with an error of +/- 308, as can be seen in the gaussian fit report above. The result of the chi-square test is 6241, as shown in the gaussian fit report. "
      ],
      "metadata": {
        "id": "tT_yUrg73to3"
      }
    },
    {
      "cell_type": "markdown",
      "source": [
        "**Counting**"
      ],
      "metadata": {
        "id": "s2KOhRs0PTiU"
      }
    },
    {
      "cell_type": "markdown",
      "source": [
        "B+ -> K+, K+, K-    \n",
        "B- -> K-, K-, K+"
      ],
      "metadata": {
        "id": "PQ1Y-9EM4DAk"
      }
    },
    {
      "cell_type": "code",
      "source": [
        "# Defining B+ and B-\n",
        "selection_Neg = \"(H1_ProbK>0.7) & (H2_ProbK>0.7) & (H3_ProbK>0.7) & (H1_isMuon == 0) & (H2_isMuon == 0) & (H3_isMuon == 0) & ((H1_Charge + H2_Charge + H3_Charge) == -1)\"\n",
        "selection_Pos = \"(H1_ProbK>0.7) & (H2_ProbK>0.7) & (H3_ProbK>0.7) & (H1_isMuon == 0) & (H2_isMuon == 0) & (H3_isMuon == 0) & ((H1_Charge + H2_Charge + H3_Charge) == 1)\"\n",
        "BNeg_cut_tree = f[\"DecayTree\"].arrays(cut = selection_Neg, library = \"np\")\n",
        "BPos_cut_tree = f[\"DecayTree\"].arrays(cut = selection_Pos, library = \"np\")\n"
      ],
      "metadata": {
        "id": "UHY7FHx-4g5h"
      },
      "execution_count": 31,
      "outputs": []
    },
    {
      "cell_type": "code",
      "source": [
        "# Getting the variables from the new cut trees and applying them to get the mass of the B+ \n",
        "H1_PX_Pos = BPos_cut_tree['H1_PX']\n",
        "H1_PY_Pos = BPos_cut_tree['H1_PY']\n",
        "H1_PZ_Pos = BPos_cut_tree['H1_PZ']\n",
        "H2_PX_Pos = BPos_cut_tree['H2_PX']\n",
        "H2_PY_Pos = BPos_cut_tree['H2_PY']\n",
        "H2_PZ_Pos = BPos_cut_tree['H2_PZ']\n",
        "H3_PX_Pos = BPos_cut_tree['H3_PX']\n",
        "H3_PY_Pos = BPos_cut_tree['H3_PY']\n",
        "H3_PZ_Pos = BPos_cut_tree['H3_PZ']\n",
        "# Calculating the energies of the daughter particles and combining them to find the energy of the B+\n",
        "E1_Pos = sqrt(497.61**2 + (sqrt((H1_PX_Pos**2) + (H1_PY_Pos**2) + (H1_PZ_Pos**2)))**2)\n",
        "E2_Pos = sqrt(497.61**2 + (sqrt((H2_PX_Pos**2) + (H2_PY_Pos**2) + (H2_PZ_Pos**2)))**2)\n",
        "E3_Pos = sqrt(497.61**2 + (sqrt((H3_PX_Pos**2) + (H3_PY_Pos**2) + (H3_PZ_Pos**2)))**2)\n",
        "\n",
        "BPos_E = E1_Pos + E2_Pos + E3_Pos\n",
        "# Calculating B+ mass and plotting it\n",
        "Ptot_Pos = sqrt((H1_PX_Pos + H2_PX_Pos + H3_PX_Pos)**2 + (H1_PY_Pos + H2_PY_Pos + H3_PY_Pos)**2 + (H1_PZ_Pos + H2_PZ_Pos + H3_PZ_Pos)**2)\n",
        "BPos_M = sqrt(BPos_E**2 - Ptot_Pos**2)\n",
        "# Plotting mass B+\n",
        "plt.hist(BPos_M, 100);"
      ],
      "metadata": {
        "id": "9LkbeP4KM8mp",
        "colab": {
          "base_uri": "https://localhost:8080/",
          "height": 265
        },
        "outputId": "df2edeae-9c09-48fc-e217-37801128f5b0"
      },
      "execution_count": 91,
      "outputs": [
        {
          "output_type": "display_data",
          "data": {
            "text/plain": [
              "<Figure size 432x288 with 1 Axes>"
            ],
            "image/png": "[encoded data removed]"
          },
          "metadata": {
            "needs_background": "light"
          }
        }
      ]
    },
    {
      "cell_type": "code",
      "source": [
        "# Fitting the B+ mass. \n",
        "# Getting x and y data from histogram\n",
        "Pos_ydata, Pos_xdata, unimportant_2 = plt.hist(BPos_M, 100)\n",
        "# Since there is one more x data point than y data points, the last x data point is discarded. \n",
        "corr_2_xdata = Pos_xdata[:-1]\n",
        "# Setting initial values for the parameters. \n",
        "paramsPos = model3.make_params(gaus_amplitude = 1550, gaus_center = 5300, gaus_sigma = 3.0, exp_amplitude = 130, exp_decay = 350)\n",
        "# The model for fitting the mass was already defined earlier. Since the fit for this data should be similar to the fit for the B-meson mass before (gaussian signal + exponential noise), the same model will be used. \n",
        "# The only changes are the data (that of the B+) and different parameters. \n",
        "completeFit_2 = model3.fit(Pos_ydata, paramsPos, x=corr_2_xdata)\n",
        "# Plotting the fit against the data. \n",
        "plt.plot(corr_2_xdata, completeFit_2.best_fit)\n",
        "plt.hist(BPos_M, 100)\n",
        "plt.title(\"Combined fit agains B-meson mass\")\n",
        "plt.legend(['Combined fit', 'BPos_M'])\n",
        "plt.xlabel(\"B-meson mass (MeV)\")\n",
        "plt.ylabel(\"Events\")"
      ],
      "metadata": {
        "id": "lYlt0_kqfD54",
        "colab": {
          "base_uri": "https://localhost:8080/",
          "height": 312
        },
        "outputId": "32bfc0de-910d-41a7-cfc5-5444a123837b"
      },
      "execution_count": 92,
      "outputs": [
        {
          "output_type": "execute_result",
          "data": {
            "text/plain": [
              "Text(0, 0.5, 'Events')"
            ]
          },
          "metadata": {},
          "execution_count": 92
        },
        {
          "output_type": "display_data",
          "data": {
            "text/plain": [
              "<Figure size 432x288 with 1 Axes>"
            ],
            "image/png": "[encoded data removed]"
          },
          "metadata": {
            "needs_background": "light"
          }
        }
      ]
    },
    {
      "cell_type": "code",
      "source": [
        "# Getting the fit report. From here, the number of events (gaus_amplitude) can be read. \n",
        "print(completeFit_2.fit_report())\n"
      ],
      "metadata": {
        "id": "RFfKhbwynD1H",
        "colab": {
          "base_uri": "https://localhost:8080/"
        },
        "outputId": "0937190f-0363-438d-a63f-962b934c1cbd"
      },
      "execution_count": 93,
      "outputs": [
        {
          "output_type": "stream",
          "name": "stdout",
          "text": [
            "[[Model]]\n",
            "    (Model(gaussian, prefix='gaus_') + Model(exponential, prefix='exp_'))\n",
            "[[Fit Statistics]]\n",
            "    # fitting method   = leastsq\n",
            "    # function evals   = 551\n",
            "    # data points      = 100\n",
            "    # variables        = 5\n",
            "    chi-square         = 1834.79916\n",
            "    reduced chi-square = 19.3136754\n",
            "    Akaike info crit   = 300.952012\n",
            "    Bayesian info crit = 313.977863\n",
            "    R-squared          = 0.99640963\n",
            "[[Variables]]\n",
            "    gaus_amplitude:  19455.2310 +/- 159.514879 (0.82%) (init = 1550)\n",
            "    gaus_center:     5283.38896 +/- 0.14415498 (0.00%) (init = 5300)\n",
            "    gaus_sigma:      16.6205893 +/- 0.14858892 (0.89%) (init = 3)\n",
            "    gaus_fwhm:       39.1384961 +/- 0.34990015 (0.89%) == '2.3548200*gaus_sigma'\n",
            "    gaus_height:     466.981913 +/- 3.54282322 (0.76%) == '0.3989423*gaus_amplitude/max(1e-15, gaus_sigma)'\n",
            "    exp_amplitude:   4.9815e+08 +/- 8.5679e+08 (171.99%) (init = 130)\n",
            "    exp_decay:       301.127520 +/- 30.0938355 (9.99%) (init = 350)\n",
            "[[Correlations]] (unreported correlations are < 0.100)\n",
            "    C(exp_amplitude, exp_decay)      = -1.000\n",
            "    C(gaus_amplitude, gaus_sigma)    = 0.611\n",
            "    C(gaus_amplitude, exp_decay)     = -0.210\n",
            "    C(gaus_amplitude, exp_amplitude) = 0.199\n",
            "    C(gaus_sigma, exp_decay)         = -0.125\n",
            "    C(gaus_sigma, exp_amplitude)     = 0.119\n"
          ]
        }
      ]
    },
    {
      "cell_type": "markdown",
      "source": [
        "Thus, the number of events creating a B+ is 19455. "
      ],
      "metadata": {
        "id": "ZZKrqnCuwgJX"
      }
    },
    {
      "cell_type": "code",
      "source": [
        "# Getting the variables from the new cut trees and applying them to get the mass of the B-\n",
        "H1_PX_Neg = BNeg_cut_tree['H1_PX']\n",
        "H1_PY_Neg = BNeg_cut_tree['H1_PY']\n",
        "H1_PZ_Neg = BNeg_cut_tree['H1_PZ']\n",
        "H2_PX_Neg = BNeg_cut_tree['H2_PX']\n",
        "H2_PY_Neg = BNeg_cut_tree['H2_PY']\n",
        "H2_PZ_Neg = BNeg_cut_tree['H2_PZ']\n",
        "H3_PX_Neg = BNeg_cut_tree['H3_PX']\n",
        "H3_PY_Neg = BNeg_cut_tree['H3_PY']\n",
        "H3_PZ_Neg = BNeg_cut_tree['H3_PZ']\n",
        "# Calculating the energies of the daughter particles and combining them to find the energy of the B-\n",
        "E1_Neg = sqrt(497.61**2 + (sqrt((H1_PX_Neg**2) + (H1_PY_Neg**2) + (H1_PZ_Neg**2)))**2)\n",
        "E2_Neg = sqrt(497.61**2 + (sqrt((H2_PX_Neg**2) + (H2_PY_Neg**2) + (H2_PZ_Neg**2)))**2)\n",
        "E3_Neg = sqrt(497.61**2 + (sqrt((H3_PX_Neg**2) + (H3_PY_Neg**2) + (H3_PZ_Neg**2)))**2)\n",
        "\n",
        "BNeg_E = E1_Neg + E2_Neg + E3_Neg\n",
        "# Calculating B- mass and plotting it\n",
        "Ptot_Neg = sqrt((H1_PX_Neg + H2_PX_Neg + H3_PX_Neg)**2 + (H1_PY_Neg + H2_PY_Neg + H3_PY_Neg)**2 + (H1_PZ_Neg + H2_PZ_Neg + H3_PZ_Neg)**2)\n",
        "BNeg_M = sqrt(BNeg_E**2 - Ptot_Neg**2)\n",
        "# Plotting mass B-\n",
        "plt.hist(BNeg_M, 100);"
      ],
      "metadata": {
        "id": "L6w7lvX8Ovme",
        "colab": {
          "base_uri": "https://localhost:8080/",
          "height": 265
        },
        "outputId": "8031937f-4db0-4338-c122-3481b5398b5c"
      },
      "execution_count": 95,
      "outputs": [
        {
          "output_type": "display_data",
          "data": {
            "text/plain": [
              "<Figure size 432x288 with 1 Axes>"
            ],
            "image/png": "[encoded data removed]"
          },
          "metadata": {
            "needs_background": "light"
          }
        }
      ]
    },
    {
      "cell_type": "code",
      "source": [
        "# Fitting the B- mass. \n",
        "# This is almost the same as the fitting for the B+ mass. The only difference is the data and parameters used. \n",
        "# Getting x and y data from histogram\n",
        "Neg_ydata, Neg_xdata, unimportant_3 = plt.hist(BNeg_M, 100)\n",
        "# Since there is one more x data point than y data points, the last x data point is discarded. \n",
        "corr_3_xdata = Neg_xdata[:-1]\n",
        "# The following parameters would need new initial values, but since the selection did not work and I can thus not see the new graph of the B+ mass, I do not know which initial values to choose. \n",
        "# Thus, the initial values for the B-meson mass are kept for now. \n",
        "paramsNeg = model3.make_params(gaus_amplitude = 20000, gaus_center = 5300, gaus_sigma = 3.0, exp_amplitude = 160, exp_decay = 350)\n",
        "# The model for fitting the mass was already defined earlier. Since the fit for this data should be similar to the fit for the B-meson mass before (gaussian signal + exponential noise), the same model will be used. \n",
        "# The only changes are the data (that of the B+) and different parameters. \n",
        "completeFit_3 = model3.fit(Neg_ydata, paramsNeg, x=corr_3_xdata)\n",
        "# Plotting the fit against the data. \n",
        "plt.plot(corr_3_xdata, completeFit_3.best_fit)\n",
        "plt.hist(BNeg_M, 100)\n",
        "plt.title(\"Combined fit agains B-meson mass\")\n",
        "plt.legend(['Combined fit', 'BNeg_M'])\n",
        "plt.xlabel(\"B-meson mass (MeV)\")\n",
        "plt.ylabel(\"Events\")"
      ],
      "metadata": {
        "id": "TEadYG0nhzU0",
        "colab": {
          "base_uri": "https://localhost:8080/",
          "height": 312
        },
        "outputId": "c7fda8d3-14be-4bba-d79e-ba1ba8f37a97"
      },
      "execution_count": 105,
      "outputs": [
        {
          "output_type": "execute_result",
          "data": {
            "text/plain": [
              "Text(0, 0.5, 'Events')"
            ]
          },
          "metadata": {},
          "execution_count": 105
        },
        {
          "output_type": "display_data",
          "data": {
            "text/plain": [
              "<Figure size 432x288 with 1 Axes>"
            ],
            "image/png": "[encoded data removed]"
          },
          "metadata": {
            "needs_background": "light"
          }
        }
      ]
    },
    {
      "cell_type": "code",
      "source": [
        "# Getting the fit report. From here, the number of events (gaus_amplitude) can be read. \n",
        "print(completeFit_3.fit_report())"
      ],
      "metadata": {
        "id": "dbn2W0pPm_Ah",
        "colab": {
          "base_uri": "https://localhost:8080/"
        },
        "outputId": "a68787c8-b1cf-4ccc-b22c-e675029d7b0a"
      },
      "execution_count": 106,
      "outputs": [
        {
          "output_type": "stream",
          "name": "stdout",
          "text": [
            "[[Model]]\n",
            "    (Model(gaussian, prefix='gaus_') + Model(exponential, prefix='exp_'))\n",
            "[[Fit Statistics]]\n",
            "    # fitting method   = leastsq\n",
            "    # function evals   = 962\n",
            "    # data points      = 100\n",
            "    # variables        = 5\n",
            "    chi-square         = 2100.32273\n",
            "    reduced chi-square = 22.1086603\n",
            "    Akaike info crit   = 314.467611\n",
            "    Bayesian info crit = 327.493462\n",
            "    R-squared          = 0.99499042\n",
            "[[Variables]]\n",
            "    gaus_amplitude:  17887.4780 +/- 186.081184 (1.04%) (init = 20000)\n",
            "    gaus_center:     5281.63613 +/- 0.17697597 (0.00%) (init = 5300)\n",
            "    gaus_sigma:      17.2753243 +/- 0.18744201 (1.09%) (init = 3)\n",
            "    gaus_fwhm:       40.6802792 +/- 0.44139219 (1.09%) == '2.3548200*gaus_sigma'\n",
            "    gaus_height:     413.078879 +/- 3.74173946 (0.91%) == '0.3989423*gaus_amplitude/max(1e-15, gaus_sigma)'\n",
            "    exp_amplitude:   2.0223e+14 +/- 6.1997e+14 (306.56%) (init = 160)\n",
            "    exp_decay:       172.414405 +/- 17.8262862 (10.34%) (init = 350)\n",
            "[[Correlations]] (unreported correlations are < 0.100)\n",
            "    C(exp_amplitude, exp_decay)      = -1.000\n",
            "    C(gaus_amplitude, gaus_sigma)    = 0.637\n",
            "    C(gaus_amplitude, exp_decay)     = -0.466\n",
            "    C(gaus_amplitude, exp_amplitude) = 0.462\n",
            "    C(gaus_sigma, exp_decay)         = -0.293\n",
            "    C(gaus_sigma, exp_amplitude)     = 0.290\n"
          ]
        }
      ]
    },
    {
      "cell_type": "markdown",
      "source": [
        "Thus, the number of events creating a B- is 17887. "
      ],
      "metadata": {
        "id": "Cq4aI8FM1Em8"
      }
    },
    {
      "cell_type": "code",
      "source": [
        "# Calculating the assymetry. \n",
        "# Putting the number of events creating a B+ and the number creating the B- in variables. These were calculated in the previous fit reports. \n",
        "N_BPos = 19455 \n",
        "N_BNeg = 17887\n",
        "A = (N_BNeg - N_BPos)/(N_BNeg + N_BPos)\n",
        "print(A)"
      ],
      "metadata": {
        "colab": {
          "base_uri": "https://localhost:8080/"
        },
        "id": "PXH3nCxq1WyK",
        "outputId": "ec3bfe71-b433-4a25-f256-c7785a7803aa"
      },
      "execution_count": 108,
      "outputs": [
        {
          "output_type": "stream",
          "name": "stdout",
          "text": [
            "-0.041990252262867546\n"
          ]
        }
      ]
    },
    {
      "cell_type": "markdown",
      "source": [
        "Thus, the assymetry is -0.042. "
      ],
      "metadata": {
        "id": "cJz0lVhx2JGY"
      }
    },
    {
      "cell_type": "code",
      "source": [
        "sigma = sqrt((1 - A**2)/(N_BNeg + N_BPos))\n",
        "print(sigma)"
      ],
      "metadata": {
        "colab": {
          "base_uri": "https://localhost:8080/"
        },
        "id": "04nk5mgI2QW_",
        "outputId": "e87bc320-7f99-436c-dccc-4c0786d0eb98"
      },
      "execution_count": 110,
      "outputs": [
        {
          "output_type": "stream",
          "name": "stdout",
          "text": [
            "0.00517032692463472\n"
          ]
        }
      ]
    },
    {
      "cell_type": "markdown",
      "source": [
        "Thus, the uncertainty of this assymetry is 0.0052. "
      ],
      "metadata": {
        "id": "tm2doMWg2k-p"
      }
    }
  ]
}