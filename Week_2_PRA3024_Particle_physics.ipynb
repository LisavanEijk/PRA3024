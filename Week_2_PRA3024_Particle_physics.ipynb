{
  "nbformat": 4,
  "nbformat_minor": 0,
  "metadata": {
    "colab": {
      "provenance": [],
      "mount_file_id": "1nwEB_iQ88S1oJqEMsXVAOvHJeXYcdQbK",
      "authorship_tag": "ABX9TyPXdXrlH01Cn17DLN7sk9Sz",
      "include_colab_link": true
    },
    "kernelspec": {
      "name": "python3",
      "display_name": "Python 3"
    },
    "language_info": {
      "name": "python"
    }
  },
  "cells": [
    {
      "cell_type": "markdown",
      "metadata": {
        "id": "view-in-github",
        "colab_type": "text"
      },
      "source": [
        "<a href=\"https://colab.research.google.com/github/LisavanEijk/PRA3024/blob/master/Week_2_PRA3024_Particle_physics.ipynb\" target=\"_parent\"><img src=\"https://colab.research.google.com/assets/colab-badge.svg\" alt=\"Open In Colab\"/></a>"
      ]
    },
    {
      "cell_type": "markdown",
      "source": [
        "This file and the ones uploaded before this one are not yet the final file for submission for week 2 (they are just tests for using github and saving my progress with the code). The real submission will, instead of saying 'Gemaakt met colaboratory' say 'Submission week 2 PRA3024 Particle physics'. "
      ],
      "metadata": {
        "id": "3q3OBXjhm0dN"
      }
    },
    {
      "cell_type": "code",
      "execution_count": 1,
      "metadata": {
        "colab": {
          "base_uri": "https://localhost:8080/"
        },
        "id": "Z9IF4ygtllro",
        "outputId": "e117eec3-540b-4ad4-cc24-e50e0c8e319c"
      },
      "outputs": [
        {
          "output_type": "stream",
          "name": "stdout",
          "text": [
            "Looking in indexes: https://pypi.org/simple, https://us-python.pkg.dev/colab-wheels/public/simple/\n",
            "Collecting uproot\n",
            "  Downloading uproot-5.0.3-py3-none-any.whl (328 kB)\n",
            "\u001b[2K     \u001b[90m━━━━━━━━━━━━━━━━━━━━━━━━━━━━━━━━━━━━━━━\u001b[0m \u001b[32m328.4/328.4 KB\u001b[0m \u001b[31m7.8 MB/s\u001b[0m eta \u001b[36m0:00:00\u001b[0m\n",
            "\u001b[?25hCollecting awkward\n",
            "  Downloading awkward-2.0.8-py3-none-any.whl (583 kB)\n",
            "\u001b[2K     \u001b[90m━━━━━━━━━━━━━━━━━━━━━━━━━━━━━━━━━━━━━━\u001b[0m \u001b[32m583.2/583.2 KB\u001b[0m \u001b[31m18.8 MB/s\u001b[0m eta \u001b[36m0:00:00\u001b[0m\n",
            "\u001b[?25hCollecting lz4\n",
            "  Downloading lz4-4.3.2-cp38-cp38-manylinux_2_17_x86_64.manylinux2014_x86_64.whl (1.3 MB)\n",
            "\u001b[2K     \u001b[90m━━━━━━━━━━━━━━━━━━━━━━━━━━━━━━━━━━━━━━━━\u001b[0m \u001b[32m1.3/1.3 MB\u001b[0m \u001b[31m32.7 MB/s\u001b[0m eta \u001b[36m0:00:00\u001b[0m\n",
            "\u001b[?25hCollecting xxhash\n",
            "  Downloading xxhash-3.2.0-cp38-cp38-manylinux_2_17_x86_64.manylinux2014_x86_64.whl (213 kB)\n",
            "\u001b[2K     \u001b[90m━━━━━━━━━━━━━━━━━━━━━━━━━━━━━━━━━━━━━━\u001b[0m \u001b[32m213.0/213.0 KB\u001b[0m \u001b[31m13.0 MB/s\u001b[0m eta \u001b[36m0:00:00\u001b[0m\n",
            "\u001b[?25hRequirement already satisfied: numpy in /usr/local/lib/python3.8/dist-packages (from uproot) (1.21.6)\n",
            "Requirement already satisfied: packaging in /usr/local/lib/python3.8/dist-packages (from uproot) (23.0)\n",
            "Requirement already satisfied: importlib-resources in /usr/local/lib/python3.8/dist-packages (from awkward) (5.10.2)\n",
            "Collecting awkward-cpp==9\n",
            "  Downloading awkward_cpp-9-cp38-cp38-manylinux_2_17_x86_64.manylinux2014_x86_64.whl (1.1 MB)\n",
            "\u001b[2K     \u001b[90m━━━━━━━━━━━━━━━━━━━━━━━━━━━━━━━━━━━━━━━━\u001b[0m \u001b[32m1.1/1.1 MB\u001b[0m \u001b[31m36.6 MB/s\u001b[0m eta \u001b[36m0:00:00\u001b[0m\n",
            "\u001b[?25hRequirement already satisfied: typing-extensions>=4.1.0 in /usr/local/lib/python3.8/dist-packages (from awkward) (4.5.0)\n",
            "Requirement already satisfied: zipp>=3.1.0 in /usr/local/lib/python3.8/dist-packages (from importlib-resources->awkward) (3.13.0)\n",
            "Installing collected packages: xxhash, lz4, awkward-cpp, awkward, uproot\n",
            "Successfully installed awkward-2.0.8 awkward-cpp-9 lz4-4.3.2 uproot-5.0.3 xxhash-3.2.0\n"
          ]
        }
      ],
      "source": [
        "# This block only needs to be run once\n",
        "!pip install uproot awkward lz4 xxhash"
      ]
    },
    {
      "cell_type": "markdown",
      "source": [
        "This block imports all neccessary packages and imports the magnet down file from my drive.  "
      ],
      "metadata": {
        "id": "F1vnX5T6nCQi"
      }
    },
    {
      "cell_type": "code",
      "source": [
        "import uproot\n",
        "from numpy import *\n",
        "import matplotlib.pyplot as plt\n",
        "\n",
        "f=uproot.open(\"/content/drive/MyDrive/B2HHH_MagnetUp.root\")\n",
        "f.keys()\n"
      ],
      "metadata": {
        "colab": {
          "base_uri": "https://localhost:8080/"
        },
        "id": "9InEsQGllwDB",
        "outputId": "cb509f0a-768b-47c8-f734-6022c4731213"
      },
      "execution_count": 55,
      "outputs": [
        {
          "output_type": "execute_result",
          "data": {
            "text/plain": [
              "['DecayTree;1']"
            ]
          },
          "metadata": {},
          "execution_count": 55
        }
      ]
    },
    {
      "cell_type": "markdown",
      "source": [
        "The following two blocks are copied from the link in the announcement, since they showed me how to see which variables are in the magnet down file, as well as how to access these variables. "
      ],
      "metadata": {
        "id": "_RyiNEJEIHVs"
      }
    },
    {
      "cell_type": "code",
      "source": [
        "f[\"DecayTree\"].show()"
      ],
      "metadata": {
        "colab": {
          "base_uri": "https://localhost:8080/"
        },
        "id": "KTtnqA43l1EU",
        "outputId": "7d8c2b45-e097-41b5-f6b5-722e12bfe14e"
      },
      "execution_count": 56,
      "outputs": [
        {
          "output_type": "stream",
          "name": "stdout",
          "text": [
            "name                 | typename                 | interpretation                \n",
            "---------------------+--------------------------+-------------------------------\n",
            "B_FlightDistance     | double                   | AsDtype('>f8')\n",
            "B_VertexChi2         | double                   | AsDtype('>f8')\n",
            "H1_PX                | double                   | AsDtype('>f8')\n",
            "H1_PY                | double                   | AsDtype('>f8')\n",
            "H1_PZ                | double                   | AsDtype('>f8')\n",
            "H1_ProbK             | double                   | AsDtype('>f8')\n",
            "H1_ProbPi            | double                   | AsDtype('>f8')\n",
            "H1_Charge            | int32_t                  | AsDtype('>i4')\n",
            "H1_IPChi2            | double                   | AsDtype('>f8')\n",
            "H1_isMuon            | int32_t                  | AsDtype('>i4')\n",
            "H2_PX                | double                   | AsDtype('>f8')\n",
            "H2_PY                | double                   | AsDtype('>f8')\n",
            "H2_PZ                | double                   | AsDtype('>f8')\n",
            "H2_ProbK             | double                   | AsDtype('>f8')\n",
            "H2_ProbPi            | double                   | AsDtype('>f8')\n",
            "H2_Charge            | int32_t                  | AsDtype('>i4')\n",
            "H2_IPChi2            | double                   | AsDtype('>f8')\n",
            "H2_isMuon            | int32_t                  | AsDtype('>i4')\n",
            "H3_PX                | double                   | AsDtype('>f8')\n",
            "H3_PY                | double                   | AsDtype('>f8')\n",
            "H3_PZ                | double                   | AsDtype('>f8')\n",
            "H3_ProbK             | double                   | AsDtype('>f8')\n",
            "H3_ProbPi            | double                   | AsDtype('>f8')\n",
            "H3_Charge            | int32_t                  | AsDtype('>i4')\n",
            "H3_IPChi2            | double                   | AsDtype('>f8')\n",
            "H3_isMuon            | int32_t                  | AsDtype('>i4')\n"
          ]
        },
        {
          "output_type": "execute_result",
          "data": {
            "text/plain": [
              "['B_FlightDistance',\n",
              " 'B_VertexChi2',\n",
              " 'H1_PX',\n",
              " 'H1_PY',\n",
              " 'H1_PZ',\n",
              " 'H1_ProbK',\n",
              " 'H1_ProbPi',\n",
              " 'H1_Charge',\n",
              " 'H1_IPChi2',\n",
              " 'H1_isMuon',\n",
              " 'H2_PX',\n",
              " 'H2_PY',\n",
              " 'H2_PZ',\n",
              " 'H2_ProbK',\n",
              " 'H2_ProbPi',\n",
              " 'H2_Charge',\n",
              " 'H2_IPChi2',\n",
              " 'H2_isMuon',\n",
              " 'H3_PX',\n",
              " 'H3_PY',\n",
              " 'H3_PZ',\n",
              " 'H3_ProbK',\n",
              " 'H3_ProbPi',\n",
              " 'H3_Charge',\n",
              " 'H3_IPChi2',\n",
              " 'H3_isMuon']"
            ]
          },
          "metadata": {},
          "execution_count": 56
        }
      ]
    },
    {
      "cell_type": "code",
      "source": [
        "f[\"DecayTree/H1_PX\"].array()"
      ],
      "metadata": {
        "colab": {
          "base_uri": "https://localhost:8080/",
          "height": 399
        },
        "id": "o-1b0TEpmlHO",
        "outputId": "074f93bd-1dac-4b36-b04d-85bfb582bd91"
      },
      "execution_count": 5,
      "outputs": [
        {
          "output_type": "execute_result",
          "data": {
            "text/html": [
              "<pre>[1.04e+03,\n",
              " -318,\n",
              " -97.8,\n",
              " -528,\n",
              " -61.9,\n",
              " -262,\n",
              " -2.28e+03,\n",
              " -2.28e+03,\n",
              " -2.28e+03,\n",
              " -1.79e+03,\n",
              " ...,\n",
              " 997,\n",
              " 98.9,\n",
              " 1.75e+03,\n",
              " 3.49e+03,\n",
              " 3.63e+03,\n",
              " -931,\n",
              " 127,\n",
              " 1.47e+03,\n",
              " 817]\n",
              "-----------------------\n",
              "type: 3420295 * float64</pre>"
            ],
            "text/plain": [
              "<Array [1.04e+03, -318, -97.8, ..., 1.47e+03, 817] type='3420295 * float64'>"
            ]
          },
          "metadata": {},
          "execution_count": 5
        }
      ]
    },
    {
      "cell_type": "code",
      "source": [
        "\n",
        "f[\"DecayTree/H1_PX\"].array(library=\"np\")"
      ],
      "metadata": {
        "colab": {
          "base_uri": "https://localhost:8080/"
        },
        "id": "hzEYgwFOmvxV",
        "outputId": "5c116ba0-6f2a-441a-bd33-88e056bc8c81"
      },
      "execution_count": 6,
      "outputs": [
        {
          "output_type": "execute_result",
          "data": {
            "text/plain": [
              "array([1038.63435383, -318.15769589,  -97.80224766, ...,  126.55972473,\n",
              "       1469.84647106,  816.63465142])"
            ]
          },
          "metadata": {},
          "execution_count": 6
        }
      ]
    },
    {
      "cell_type": "markdown",
      "source": [
        "From here, my code for the exercises from the assignment can be found. \n",
        "Exercise 1: Why are we here?\n",
        "The first block calculates the total momentum of daughter particle 1 (H1) and plots this as a histogram "
      ],
      "metadata": {
        "id": "ERyEY837sr-3"
      }
    },
    {
      "cell_type": "code",
      "source": [
        "# Momenta daughter particle 1 in x, y and z direction\n",
        "H1_PX=f[\"DecayTree/H1_PX\"].array(library=\"np\")\n",
        "H1_PY=f[\"DecayTree/H1_PY\"].array(library=\"np\")\n",
        "H1_PZ=f[\"DecayTree/H1_PZ\"].array(library=\"np\")\n",
        "# Formula total momentum daughter particle 1\n",
        "H1_Ptot=sqrt(H1_PX**2 + H1_PY**2 + H1_PZ**2)\n",
        "# Plotting total momentum daughter particle 1 as histogram\n",
        "plt.hist(H1_Ptot, 300, (0,300000), histtype=u'step');\n",
        "plt.title(\"Total momentum daughter particle 1\")\n"
      ],
      "metadata": {
        "colab": {
          "base_uri": "https://localhost:8080/",
          "height": 298
        },
        "id": "H0-TPAWgq8dL",
        "outputId": "536eb640-8d6e-4248-80ae-db36f620250c"
      },
      "execution_count": 7,
      "outputs": [
        {
          "output_type": "execute_result",
          "data": {
            "text/plain": [
              "Text(0.5, 1.0, 'Total momentum daughter particle 1')"
            ]
          },
          "metadata": {},
          "execution_count": 7
        },
        {
          "output_type": "display_data",
          "data": {
            "text/plain": [
              "<Figure size 432x288 with 1 Axes>"
            ],
            "image/png": "[encoded data removed]"
          },
          "metadata": {
            "needs_background": "light"
          }
        }
      ]
    },
    {
      "cell_type": "markdown",
      "source": [
        " This block plots the momentum of the mother particle (M_Ptot)"
      ],
      "metadata": {
        "id": "00uxqU2JwS1k"
      }
    },
    {
      "cell_type": "code",
      "source": [
        "# Getting momenta daughter particles 2 and 3 as variables\n",
        "H2_PX = f[\"DecayTree/H2_PX\"].array(library=\"np\")\n",
        "H3_PX = f[\"DecayTree/H3_PX\"].array(library=\"np\")\n",
        "H2_PY = f[\"DecayTree/H2_PY\"].array(library=\"np\")\n",
        "H3_PY = f[\"DecayTree/H3_PY\"].array(library=\"np\")\n",
        "H2_PZ = f[\"DecayTree/H2_PZ\"].array(library=\"np\")\n",
        "H3_PZ = f[\"DecayTree/H3_PZ\"].array(library=\"np\")\n",
        "# Calculation for momentum mother particle\n",
        "M_Ptot = sqrt((H1_PX + H2_PX + H3_PX)**2 + (H1_PY + H2_PY + H3_PY)**2 + (H1_PZ + H2_PZ + H3_PZ)**2)\n",
        "# Plotting momentum mother particle\n",
        "plt.hist(M_Ptot, 300, (0,500000), histtype=u'step');\n",
        "plt.title(\"Total momentum mother particle\")"
      ],
      "metadata": {
        "colab": {
          "base_uri": "https://localhost:8080/",
          "height": 298
        },
        "id": "rmWUzO_3wXpd",
        "outputId": "6eb819aa-9bf4-4bc5-efe2-c7c67896a8d0"
      },
      "execution_count": 8,
      "outputs": [
        {
          "output_type": "execute_result",
          "data": {
            "text/plain": [
              "Text(0.5, 1.0, 'Total momentum mother particle')"
            ]
          },
          "metadata": {},
          "execution_count": 8
        },
        {
          "output_type": "display_data",
          "data": {
            "text/plain": [
              "<Figure size 432x288 with 1 Axes>"
            ],
            "image/png": "[encoded data removed]"
          },
          "metadata": {
            "needs_background": "light"
          }
        }
      ]
    },
    {
      "cell_type": "markdown",
      "source": [
        " This block plots the range of masses for the B-meson. "
      ],
      "metadata": {
        "id": "MFDEFppeJuL0"
      }
    },
    {
      "cell_type": "code",
      "source": [
        "# Energies of daughter particles 1, 2 and 3, assuming the mass of each daughter particle is that of a Kaon: 497.61 MeV (in natural units)(Binas 6th edition, table 26C)\n",
        "# Energy of daughter particle is square root(mass daughter particle squared + total momentum daughter particle squared)\n",
        "E1 = sqrt(497.61**2 + (sqrt((H1_PX**2) + (H1_PY**2) + (H1_PZ**2)))**2)\n",
        "E2 = sqrt(497.61**2 + (sqrt((H2_PX**2) + (H2_PY**2) + (H2_PZ**2)))**2)\n",
        "E3 = sqrt(497.61**2 + (sqrt((H3_PX**2) + (H3_PY**2) + (H3_PZ**2)))**2)\n",
        "# Energy of the B-meson (mother particle) is the sum of the energies of the daughter particles\n",
        "Bmeson_E = E1 + E2 + E3\n",
        "# Mass of B-meson is square root(energy B-meson squared + momentum B-meson squared)\n",
        "Bmeson_M = sqrt(Bmeson_E**2 + M_Ptot**2)\n",
        "# Plotting mass B-meson\n",
        "plt.hist(Bmeson_M, 300, (0,600000), histtype=u'step');\n",
        "plt.title(\"Mass distribution B-meson\")\n",
        "# This mass is too high for the B-meson. This is because also muons are taken into account in the calculation, while they should not be taken into account"
      ],
      "metadata": {
        "id": "CZQ5F97p1WLY",
        "colab": {
          "base_uri": "https://localhost:8080/",
          "height": 298
        },
        "outputId": "187f44e7-24b5-475f-981c-e7b8ad23b4ea"
      },
      "execution_count": 66,
      "outputs": [
        {
          "output_type": "execute_result",
          "data": {
            "text/plain": [
              "Text(0.5, 1.0, 'Mass distribution B-meson')"
            ]
          },
          "metadata": {},
          "execution_count": 66
        },
        {
          "output_type": "display_data",
          "data": {
            "text/plain": [
              "<Figure size 432x288 with 1 Axes>"
            ],
            "image/png": "[encoded data removed]"
          },
          "metadata": {
            "needs_background": "light"
          }
        }
      ]
    },
    {
      "cell_type": "markdown",
      "source": [
        "The first two blocks plot the probability whether each daughter particle is a Kaon or Pion. The third block plots B_VertexChi2 for all particles. "
      ],
      "metadata": {
        "id": "bafN2hrURJze"
      }
    },
    {
      "cell_type": "code",
      "source": [
        "# Getting the variables from the magnet down file\n",
        "\n",
        "H1_ProbK = f[\"DecayTree/H1_ProbK\"].array(library=\"np\")\n",
        "H2_ProbK = f[\"DecayTree/H2_ProbK\"].array(library=\"np\")\n",
        "H3_ProbK = f[\"DecayTree/H3_ProbK\"].array(library=\"np\")\n",
        "H1_ProbPi = f[\"DecayTree/H1_ProbPi\"].array(library=\"np\")\n",
        "H2_ProbPi = f[\"DecayTree/H2_ProbPi\"].array(library=\"np\")\n",
        "H3_ProbPi = f[\"DecayTree/H3_ProbPi\"].array(library=\"np\")\n",
        "\n",
        "# First block: Plotting the probability of each daughter particle being a Kaon (in one plot)\n",
        "plt.hist(H1_ProbK, 100, (0,1), histtype=u'step');\n",
        "plt.hist(H2_ProbK, 100, (0,1), histtype=u'step');\n",
        "plt.hist(H3_ProbK, 100, (0,1), histtype=u'step');\n",
        "plt.title(\"Probability daughter particle = Kaon\")\n",
        "plt.legend(['H1_ProbK', 'H2_ProbK', 'H3_ProbK'])\n",
        "plt.show()\n"
      ],
      "metadata": {
        "colab": {
          "base_uri": "https://localhost:8080/",
          "height": 281
        },
        "id": "LAAw4fSUTQ_C",
        "outputId": "93863025-df5a-4611-ebf0-813a35e61fe4"
      },
      "execution_count": 10,
      "outputs": [
        {
          "output_type": "display_data",
          "data": {
            "text/plain": [
              "<Figure size 432x288 with 1 Axes>"
            ],
            "image/png": "[encoded data removed]"
          },
          "metadata": {
            "needs_background": "light"
          }
        }
      ]
    },
    {
      "cell_type": "code",
      "source": [
        "# Second block: Plotting the probability of each daughter particle being a Pion (in one plot)\n",
        "plt.hist(H1_ProbPi, 100, (0,1), histtype=u'step');\n",
        "plt.hist(H2_ProbPi, 100, (0,1), histtype=u'step');\n",
        "plt.hist(H3_ProbPi, 100, (0,1), histtype=u'step');\n",
        "plt.title(\"Probability daughter particle = Pion\")\n",
        "plt.legend(['H1_ProbPi', 'H2_ProbPi', 'H3_ProbPi'])\n",
        "plt.show()"
      ],
      "metadata": {
        "colab": {
          "base_uri": "https://localhost:8080/",
          "height": 281
        },
        "id": "AfZKFafxWr12",
        "outputId": "afc6273d-2166-4022-dfcd-13ba5be9e476"
      },
      "execution_count": 11,
      "outputs": [
        {
          "output_type": "display_data",
          "data": {
            "text/plain": [
              "<Figure size 432x288 with 1 Axes>"
            ],
            "image/png": "[encoded data removed]"
          },
          "metadata": {
            "needs_background": "light"
          }
        }
      ]
    },
    {
      "cell_type": "code",
      "source": [
        "# Third block: Plotting B_VertexChi2\n",
        "B_VertexChi2 = f[\"DecayTree/B_VertexChi2\"].array(library=\"np\")\n",
        "plt.hist(B_VertexChi2, 300, (0,10), histtype=u'step');\n",
        "plt.title(\"B_VertexChi2\")"
      ],
      "metadata": {
        "colab": {
          "base_uri": "https://localhost:8080/",
          "height": 298
        },
        "id": "FzccKmDhaamK",
        "outputId": "abedddfa-a60f-4f4f-c961-de1a1372019c"
      },
      "execution_count": 13,
      "outputs": [
        {
          "output_type": "execute_result",
          "data": {
            "text/plain": [
              "Text(0.5, 1.0, 'B_VertexChi2')"
            ]
          },
          "metadata": {},
          "execution_count": 13
        },
        {
          "output_type": "display_data",
          "data": {
            "text/plain": [
              "<Figure size 432x288 with 1 Axes>"
            ],
            "image/png": "[encoded data removed]"
          },
          "metadata": {
            "needs_background": "light"
          }
        }
      ]
    },
    {
      "cell_type": "markdown",
      "source": [
        "This block makes the pre-selection and applies this to the new decay tree 'cut_tree'.  "
      ],
      "metadata": {
        "id": "bsIsFJawcVV6"
      }
    },
    {
      "cell_type": "code",
      "source": [
        "\n",
        "cut_tree = f[\"DecayTree\"].arrays(cut = \"(H1_ProbPi>0.5) & (H2_ProbPi>0.5) & (H3_ProbPi>0.5) & (H1_isMuon == 0) & (H2_isMuon == 0) & (H3_isMuon == 0)\", library = \"np\")\n",
        "# Checking which keys are in the cut_tree, as well as their values, to see if the cut worked. \n",
        "dict(cut_tree)\n",
        "\n",
        "# f[\"DecayTree/H1_PX\"].array()\n",
        "\n",
        "# https://github.com/scikit-hep/uproot5/issues/194\n",
        "# https://masonproffitt.github.io/uproot-tutorial/aio/index.html"
      ],
      "metadata": {
        "id": "vQegeE2och4Y",
        "colab": {
          "base_uri": "https://localhost:8080/"
        },
        "outputId": "64d8eb07-9862-412f-c613-31b4a2e97f7e"
      },
      "execution_count": 63,
      "outputs": [
        {
          "output_type": "execute_result",
          "data": {
            "text/plain": [
              "{'B_FlightDistance': array([12.48938115,  4.67896165,  8.59131947, ..., 42.76645477,\n",
              "         3.49611985,  8.43893257]),\n",
              " 'B_VertexChi2': array([9.30393736, 7.56355017, 9.37822256, ..., 3.48487211, 2.04638573,\n",
              "        7.8439232 ]),\n",
              " 'H1_PX': array([  -97.80224766, -1792.32354848,   583.98369116, ...,\n",
              "         1787.07339575,   512.62536544,   816.63465142]),\n",
              " 'H1_PY': array([ 199.04366567, -538.18942249,  222.63333397, ..., 1165.57237078,\n",
              "         964.35976048,  368.77402216]),\n",
              " 'H1_PZ': array([ 4381.61108132, 89001.7980122 , 13836.50226102, ...,\n",
              "        99980.21713623, 54624.45313707, 14055.76821297]),\n",
              " 'H1_ProbK': array([0.0637086 , 0.32932657, 0.00856617, ..., 0.31599095, 0.06426549,\n",
              "        0.00679082]),\n",
              " 'H1_ProbPi': array([0.86789846, 0.54065335, 0.98793274, ..., 0.72673178, 0.81515902,\n",
              "        0.8685807 ]),\n",
              " 'H1_Charge': array([ 1,  1, -1, ..., -1, -1, -1], dtype=int32),\n",
              " 'H1_IPChi2': array([1.15418018e+00, 4.31774603e+00, 3.23764375e+00, ...,\n",
              "        1.61113754e+03, 4.96604328e+00, 9.10453678e+02]),\n",
              " 'H1_isMuon': array([0, 0, 0, ..., 0, 0, 0], dtype=int32),\n",
              " 'H2_PX': array([ 208.03406007, -120.21761022,  218.50877451, ...,   38.43230412,\n",
              "         125.05611356, -587.36321802]),\n",
              " 'H2_PY': array([ 462.60616261,  901.71315305, -681.13720496, ..., -324.65461563,\n",
              "         210.07864267, -159.70516982]),\n",
              " 'H2_PZ': array([ 3814.36228114, 21824.05890241,  3263.75917255, ...,\n",
              "         5270.1498287 ,  5222.60068881, 41307.40555979]),\n",
              " 'H2_ProbK': array([0.01113471, 0.00238249, 0.01080135, ..., 0.01136073, 0.00105485,\n",
              "        0.02210706]),\n",
              " 'H2_ProbPi': array([0.97070384, 0.94667691, 0.94655275, ..., 0.86574376, 0.99046016,\n",
              "        0.71394914]),\n",
              " 'H2_Charge': array([-1, -1,  1, ...,  1,  1,  1], dtype=int32),\n",
              " 'H2_IPChi2': array([8.28728775e+02, 9.87469430e+00, 3.13797082e+03, ...,\n",
              "        5.20647507e+02, 3.02831061e+00, 1.76095806e+00]),\n",
              " 'H2_isMuon': array([0, 0, 0, ..., 0, 0, 0], dtype=int32),\n",
              " 'H3_PX': array([  627.98317061,  -767.92904978,  4925.74035049, ...,\n",
              "        -2419.00367584,  1834.65756696, -3647.65371991]),\n",
              " 'H3_PY': array([ 6277.04130337, -1740.01353854,  1121.77662713, ...,\n",
              "         1527.9883103 ,  3832.68966317,  -960.22689863]),\n",
              " 'H3_PZ': array([163852.18743621,  17869.66989679, 107238.883187  , ...,\n",
              "        139424.40550735,  27005.57209004,  43878.25467187]),\n",
              " 'H3_ProbK': array([0.09677541, 0.00113869, 0.03283262, ..., 0.20782334, 0.00461909,\n",
              "        0.02917069]),\n",
              " 'H3_ProbPi': array([0.534711  , 0.72124004, 0.5987553 , ..., 0.59884942, 0.91869509,\n",
              "        0.88166529]),\n",
              " 'H3_Charge': array([-1, -1,  1, ...,  1,  1,  1], dtype=int32),\n",
              " 'H3_IPChi2': array([   3.51191772,  507.20199561,   17.33854601, ..., 1131.88912015,\n",
              "         508.15685002,  589.56518416]),\n",
              " 'H3_isMuon': array([0, 0, 0, ..., 0, 0, 0], dtype=int32)}"
            ]
          },
          "metadata": {},
          "execution_count": 63
        }
      ]
    },
    {
      "cell_type": "code",
      "source": [],
      "metadata": {
        "id": "dL51RXufCq-G"
      },
      "execution_count": null,
      "outputs": []
    },
    {
      "cell_type": "markdown",
      "source": [
        "This block plots the B-meson mass calculated via the uncut DecayTree and the B-meson mass calculated via the cut_tree. "
      ],
      "metadata": {
        "id": "-RW5W4677fsc"
      }
    },
    {
      "cell_type": "code",
      "source": [
        "# Getting the variables from the cut_tree.\n",
        "H1_PX_cut = cut_tree['H1_PX']\n",
        "H1_PY_cut = cut_tree['H1_PY']\n",
        "H1_PZ_cut = cut_tree['H1_PZ']\n",
        "H2_PX_cut = cut_tree['H2_PX']\n",
        "H2_PY_cut = cut_tree['H2_PY']\n",
        "H2_PZ_cut = cut_tree['H2_PZ']\n",
        "H3_PX_cut = cut_tree['H3_PX']\n",
        "H3_PY_cut = cut_tree['H3_PY']\n",
        "H3_PZ_cut = cut_tree['H3_PZ']\n",
        "# Energies of daughter particles 1, 2 and 3 after cut.\n",
        "E1_cut = sqrt(497.61**2 + (sqrt((H1_PX_cut**2) + (H1_PY_cut**2) + (H1_PZ_cut**2)))**2)\n",
        "E2_cut = sqrt(497.61**2 + (sqrt((H2_PX_cut**2) + (H2_PY_cut**2) + (H2_PZ_cut**2)))**2)\n",
        "E3_cut = sqrt(497.61**2 + (sqrt((H3_PX_cut**2) + (H3_PY_cut**2) + (H3_PZ_cut**2)))**2)\n",
        "# Energy of the B-meson after cut.\n",
        "Bmeson_E_cut = E1_cut + E2_cut + E3_cut\n",
        "# Mass of B-meson after cut.\n",
        "M_Ptot_cut = sqrt((H1_PX_cut + H2_PX_cut + H3_PX_cut)**2 + (H1_PY_cut + H2_PY_cut + H3_PY_cut)**2 + (H1_PZ_cut + H2_PZ_cut + H3_PZ_cut)**2)\n",
        "Bmeson_M_cut = sqrt(Bmeson_E_cut**2 + M_Ptot_cut**2)\n",
        "# Plotting mass B-meson. This was already calculated before. \n",
        "plt.hist(Bmeson_M, 300, (0,600000), histtype=u'step');\n",
        "# Plotting mass B-meson after cut. \n",
        "plt.hist(Bmeson_M_cut, 300, (0,600000), histtype=u'step');\n",
        "# Setting up legend, title and combining the plots. \n",
        "plt.title(\"B-meson mass before and after cut\")\n",
        "plt.legend(['B-meson mass before cut', 'B-meson mass after cut'])\n",
        "plt.show()\n",
        "# The peak of the mass after the cut is much smaller, because the contribution of the muons is left out of the calculations (as instructed). \n",
        "# This new peak is much more reasonable, since the mass of the B-meson should be around 5279 MeV (Binas 6th edition, table 26C)"
      ],
      "metadata": {
        "colab": {
          "base_uri": "https://localhost:8080/",
          "height": 281
        },
        "id": "r6QLZgG-15bq",
        "outputId": "0df74241-ad78-412c-aa01-3f0512c63896"
      },
      "execution_count": 65,
      "outputs": [
        {
          "output_type": "display_data",
          "data": {
            "text/plain": [
              "<Figure size 432x288 with 1 Axes>"
            ],
            "image/png": "[encoded data removed]"
          },
          "metadata": {
            "needs_background": "light"
          }
        }
      ]
    }
  ]
}