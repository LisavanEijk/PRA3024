{
  "cells": [
    {
      "cell_type": "markdown",
      "metadata": {
        "id": "view-in-github",
        "colab_type": "text"
      },
      "source": [
        "<a href=\"https://colab.research.google.com/github/LisavanEijk/PRA3024/blob/master/Submission_assignment_cosmology_PRA3024.ipynb\" target=\"_parent\"><img src=\"https://colab.research.google.com/assets/colab-badge.svg\" alt=\"Open In Colab\"/></a>"
      ]
    },
    {
      "cell_type": "markdown",
      "metadata": {
        "id": "TkdruF2bYl5j"
      },
      "source": [
        "# <font color='deepskyblue'>Cosmology MCMC notebook </font>"
      ]
    },
    {
      "cell_type": "markdown",
      "metadata": {
        "id": "t0SazaVif4pl"
      },
      "source": [
        "## <font color='deepskyblue'>Preliminaries</font>"
      ]
    },
    {
      "cell_type": "markdown",
      "source": [
        "This is my submission for assignment 4 for PRA3024: the cosmology assignment (week 6). \n",
        "\n",
        "Name: Lisa van Eijk\n",
        "\n",
        "Student ID: i6294465\n",
        "\n",
        "Course: PRA3024\n",
        "\n",
        "Date: 31-03-2023"
      ],
      "metadata": {
        "id": "TKn3vNsrN5_A"
      }
    },
    {
      "cell_type": "markdown",
      "source": [
        "Important note: there are some slight problems still in the last part and thus there is a chance that not the whole code will run. It would be best to run the code cell by cell. "
      ],
      "metadata": {
        "id": "iUcUNVKbOiqz"
      }
    },
    {
      "cell_type": "code",
      "execution_count": null,
      "metadata": {
        "colab": {
          "base_uri": "https://localhost:8080/"
        },
        "id": "y6hcXmMbhbMA",
        "outputId": "3dfe90fd-5f55-45c7-ae43-e4b8e2e4e7e9",
        "scrolled": true
      },
      "outputs": [
        {
          "output_type": "stream",
          "name": "stdout",
          "text": [
            "Looking in indexes: https://pypi.org/simple, https://us-python.pkg.dev/colab-wheels/public/simple/\n",
            "Collecting getdist\n",
            "  Downloading GetDist-1.4.2.tar.gz (777 kB)\n",
            "\u001b[2K     \u001b[90m━━━━━━━━━━━━━━━━━━━━━━━━━━━━━━━━━━━━━━━\u001b[0m \u001b[32m777.8/777.8 KB\u001b[0m \u001b[31m5.6 MB/s\u001b[0m eta \u001b[36m0:00:00\u001b[0m\n",
            "\u001b[?25h  Preparing metadata (setup.py) ... \u001b[?25l\u001b[?25hdone\n",
            "Requirement already satisfied: numpy>=1.17.0 in /usr/local/lib/python3.9/dist-packages (from getdist) (1.22.4)\n",
            "Requirement already satisfied: matplotlib!=3.5.0,>=2.2.0 in /usr/local/lib/python3.9/dist-packages (from getdist) (3.7.1)\n",
            "Requirement already satisfied: scipy>=1.5.0 in /usr/local/lib/python3.9/dist-packages (from getdist) (1.10.1)\n",
            "Requirement already satisfied: PyYAML>=5.1 in /usr/local/lib/python3.9/dist-packages (from getdist) (6.0)\n",
            "Requirement already satisfied: packaging in /usr/local/lib/python3.9/dist-packages (from getdist) (23.0)\n",
            "Requirement already satisfied: contourpy>=1.0.1 in /usr/local/lib/python3.9/dist-packages (from matplotlib!=3.5.0,>=2.2.0->getdist) (1.0.7)\n",
            "Requirement already satisfied: kiwisolver>=1.0.1 in /usr/local/lib/python3.9/dist-packages (from matplotlib!=3.5.0,>=2.2.0->getdist) (1.4.4)\n",
            "Requirement already satisfied: python-dateutil>=2.7 in /usr/local/lib/python3.9/dist-packages (from matplotlib!=3.5.0,>=2.2.0->getdist) (2.8.2)\n",
            "Requirement already satisfied: pyparsing>=2.3.1 in /usr/local/lib/python3.9/dist-packages (from matplotlib!=3.5.0,>=2.2.0->getdist) (3.0.9)\n",
            "Requirement already satisfied: fonttools>=4.22.0 in /usr/local/lib/python3.9/dist-packages (from matplotlib!=3.5.0,>=2.2.0->getdist) (4.39.2)\n",
            "Requirement already satisfied: cycler>=0.10 in /usr/local/lib/python3.9/dist-packages (from matplotlib!=3.5.0,>=2.2.0->getdist) (0.11.0)\n",
            "Requirement already satisfied: importlib-resources>=3.2.0 in /usr/local/lib/python3.9/dist-packages (from matplotlib!=3.5.0,>=2.2.0->getdist) (5.12.0)\n",
            "Requirement already satisfied: pillow>=6.2.0 in /usr/local/lib/python3.9/dist-packages (from matplotlib!=3.5.0,>=2.2.0->getdist) (8.4.0)\n",
            "Requirement already satisfied: zipp>=3.1.0 in /usr/local/lib/python3.9/dist-packages (from importlib-resources>=3.2.0->matplotlib!=3.5.0,>=2.2.0->getdist) (3.15.0)\n",
            "Requirement already satisfied: six>=1.5 in /usr/local/lib/python3.9/dist-packages (from python-dateutil>=2.7->matplotlib!=3.5.0,>=2.2.0->getdist) (1.16.0)\n",
            "Building wheels for collected packages: getdist\n",
            "  Building wheel for getdist (setup.py) ... \u001b[?25l\u001b[?25hdone\n",
            "  Created wheel for getdist: filename=GetDist-1.4.2-py3-none-any.whl size=227180 sha256=93371b4f4774bba64fb13c7169ef8520711efcc0055304843788d122831a1899\n",
            "  Stored in directory: /root/.cache/pip/wheels/18/cb/66/d0651231593a0a79ff7e0629bd907687254356608f6d076f77\n",
            "Successfully built getdist\n",
            "Installing collected packages: getdist\n",
            "Successfully installed getdist-1.4.2\n"
          ]
        }
      ],
      "source": [
        "# Install required packages (if not available on server)\n",
        "!pip install getdist\n",
        "\n",
        "# Load required packages\n",
        "import numpy as np\n",
        "import matplotlib.pyplot as plt\n",
        "import scipy.integrate as integrate\n",
        "# import pylab\n",
        "import getdist, IPython\n",
        "from numpy import random\n",
        "# from IPython.display import Image\n",
        "from getdist import plots, MCSamples, loadMCSamples"
      ]
    },
    {
      "cell_type": "markdown",
      "metadata": {
        "id": "ayxOF90lVqKY"
      },
      "source": [
        "\n",
        "<font color='tomato'>\n",
        "(NB: The equations you'll directly need to build your code are those $\\boxed{\\text{with a box around}}$)\n",
        "</font>\n",
        "\n",
        "## <font color='deepskyblue'>The $\\Lambda$CDM Model</font>\n",
        "\n",
        "The Lambda-Cold-Dark-Matter ($\\Lambda$CDM) Model is our concordance cosmological model. It postulates a Universe that behaves according to **General Relativity**, filled with **baryons** (protons, neutrons - the stuff we and stars are made of!), **Cold Dark Matter (CDM)** and a **Cosmological Constant** $\\Lambda$.\n",
        "\n",
        "The expansion of the Universe is best described in terms of the **scale factor** $a$ (the \"radius\" of the Universe, conventionally set to 1 today) and the **Hubble rate** $H$\n",
        "\n",
        "$$\n",
        "H \\equiv \\frac{\\dot a}{a}\n",
        "$$\n",
        "\n",
        "The Einstein Equations in a **homogeneous, isotropic** Universe have an especially simple form and a special name, **Friedmann Equation**:\n",
        "\n",
        "$$\n",
        "H^2 = \\frac{8\\pi G}{3}\\rho + \\frac{k}{a^2}\n",
        "$$\n",
        "\n",
        "where $\\rho$ is the total energy density of the Universe (at a certain time or size), and $k$ is a universal constant related to the [spatial curvature and shape of the Universe](https://en.wikipedia.org/wiki/Shape_of_the_universe#:~:text=The%20spatial%20curvature%20is%20related,indistinguishable%20spaces%20with%20different%20topologies.). In the $\\Lambda$CDM model (and at late enough times), this additionally simplifies to\n",
        "\n",
        "$$\n",
        "\\boxed{\n",
        "H^2 = H_0^2\\left(\\Omega_\\Lambda + \\Omega_m a^{-3} + \\Omega_k a^{-2}\\right)\n",
        "}\n",
        "\\qquad\n",
        "\\qquad\n",
        "\\boxed{\n",
        "\\Omega_m + \\Omega_\\Lambda + \\Omega_k = 1\n",
        "}\n",
        "\\tag{1}\n",
        "$$\n",
        "\n",
        "$H_0$ is the value of the Hubble rate *today*, and the parameters $\\Omega_m$, $\\Omega_\\Lambda$ and $\\Omega_k$ are dimensionless quantities indicating how much of the present expansion of the Universe is due to (non-relativistic) matter, cosmological constant $\\Lambda$, and spatial curvature $k$. Note that the three $\\Omega$'s are *not independent* (their sum is 1) and that we grouped together the contribution of baryons and CDM,\n",
        "\n",
        "$$\n",
        "\\Omega_m = \\Omega_{\\rm CDM} + \\Omega_{\\rm b}\n",
        "$$\n",
        "\n",
        "and that we have evidence that independent evidence that $\\Omega_b \\approx 5$\\%. Note that only $\\Omega_m \\geq 0$ makes physical sense, while in principle both $\\Omega_\\Lambda$ and $\\Omega_k$ can be negative.\n",
        "\n",
        "The present Hubble rate is conventionally parametrised in terms of the dimensionless $h$:\n",
        "\n",
        "$$\n",
        "\\boxed{H_0 \\equiv h\\,\\frac{100 \\,\\text{km}}{\\text{s Mpc}}}\n",
        "\\tag{2}\n",
        "$$\n",
        "\n",
        "where Mpc = Megaparsec and [parsec](https://en.wikipedia.org/wiki/Parsec) equals to about $3.26$ light years or $3.086 \\cdot 10^{16}$ m. \n",
        "\n",
        "In essence, these equations give us the relation between *what exists in the Universe* and *how the Universe expanded*. Measure one, I can tell you the other. This is precisely what we aim to do!\n",
        "\n",
        "Time to define the function $H(z)$. Don't forget to include the useful parameters as arguments of the function, and to define `parsec`."
      ]
    },
    {
      "cell_type": "code",
      "execution_count": null,
      "metadata": {
        "colab": {
          "base_uri": "https://localhost:8080/"
        },
        "id": "CFIYCrH2XccJ",
        "outputId": "7fbafda6-1de4-41c9-e3a3-e15995c945ee"
      },
      "outputs": [
        {
          "output_type": "stream",
          "name": "stdout",
          "text": [
            "0.000151322794052978\n"
          ]
        }
      ],
      "source": [
        "# Hubble rate: look at equations (1) and (2) for the definition!\n",
        "import math\n",
        "#H0 = 69.8 km/s/Mpc\n",
        "def H(z, OmegaL, OmegaM, h):\n",
        "  a = 1/(1+z)\n",
        "  OmegaK = 1 - OmegaL - OmegaM\n",
        "  H0 = h/10000 # This gives the value for H0 in km/s/pc\n",
        "  H =H0*math.sqrt((OmegaL +((1/(a**3))*OmegaM) + ((1/(a**2))*OmegaK))) \n",
        "  return H\n",
        "# Integrate H from x = 0 to x = z\n",
        "def D(z, omegaL, omegaM, h):\n",
        "  H0 = h/10000 # This gives the value for H0 in km/s/pc\n",
        "  return H0* (integrate.quad(lambda x: 1/H(x, omegaL, omegaM, h), 0, z)[0])\n",
        "\n",
        "print(H(1, 0.3, 0.4, 0.698))"
      ]
    },
    {
      "cell_type": "markdown",
      "metadata": {
        "id": "NNm-m0auXccK"
      },
      "source": [
        "## <font color='deepskyblue'>Supernovae Ia</font>\n",
        "\n",
        "In order to track the expansion of the Universe, we will look at Supernovae type Ia observations. SNIa are formed when a *white dwarf* accretes matter from a companion until it reaches a critical mass of about $1.44 M_\\odot$ (solar masses), after which it explodes **at always the same luminosity** $L_{\\rm SN}$. Therefore, the observed [magnitude](https://en.wikipedia.org/wiki/Magnitude_(astronomy)) is only a function of their [**luminosity distance**](https://en.wikipedia.org/wiki/Distance_measures_(cosmology)) from Earth, defined as the ratio of the intrinsic luminosity $L_{\\rm SNIa}$ and the measured *surface brightness* $\\Phi$ (energy per unit time per unit area)\n",
        "\n",
        "$$ d_L\\equiv \\frac{L_{\\rm SN}}{4\\pi \\Phi} $$\n",
        "\n",
        "While photons (light rays) travel from the distant SNIa to Earth, the Universe expands and the photons get redshifted, and this redshift is directly related to the size of the Universe when the photon was emitted compared to today:\n",
        "\n",
        "$$ \\frac{\\lambda_{\\rm obs}}{\\lambda_{\\rm em}} \\equiv 1 + z_{\\rm em} = \\frac{1}{a_{\\rm em}}$$\n",
        "\n",
        "We can express the luminosity distance in terms of the Hubble rate:\n",
        "\n",
        "$$\n",
        "\\boxed{\n",
        "d_L(z) = \\frac{c}{H_0}(1+z) \\times \n",
        "\\begin{cases}\n",
        "    \\cfrac{1}{\\sqrt{\\Omega_k}} \\,\\sinh\\left(\\sqrt{\\Omega_k}\\,D(z)\\right) & \\Omega_k > 0\n",
        "    \\\\[.5em]\n",
        "    D(z) & \\Omega_k = 0\n",
        "    \\\\[.5em]\n",
        "    \\cfrac{1}{\\sqrt{-\\Omega_k}} \\,\\sin\\left(\\sqrt{-\\Omega_k}\\,D(z)\\right) & \\Omega_k < 0\n",
        "\\end{cases}\n",
        "\\qquad\\qquad\n",
        "D(z) \\equiv H_0\\int_0^z \\frac{{\\rm d}Z}{H(Z)}\n",
        "}\n",
        "\\tag{3}\n",
        "$$\n",
        "\n",
        "where $c$ is the speed of light: $c \\simeq 2.998 \\cdot 10^{5}$ km/s.\n",
        "\n",
        "Clearly, there exists a relation between $d_L(z)$ and $H(z)$, so the luminosity distance is a useful measure of the Universe expansion history. \n",
        "In practice, however, the actual observable for [Supernovae Type Ia](https://en.wikipedia.org/wiki/Type_Ia_supernova) (or SNIa) is the [distance modulus](https://en.wikipedia.org/wiki/Distance_modulus) $\\mu$, defined as the difference between the *apparent magnitude* $m$ and the *absolute magnitude* $M$:\n",
        "\n",
        "$$\n",
        "\\boxed{\n",
        "\\mu(z) \\equiv m(z) - M \\equiv 5 \\log_{10} \\frac{d_L(z)}{10\\,\\text{pc}}\n",
        "}\n",
        "\\tag{4}\n",
        "$$\n",
        "\n",
        "We can create the function `dL(z, h, Omega_m, Omega_Lambda)`. You can also pass the function `Hubble` as an argument: `dL(z, Hubble, Omega_m, Omega_Lambda)`. Additionally, you can create $D(z)$ for your convenience.\n",
        "\n",
        "Note that you need to integrate the function $H(z)$, so write your own quick-and-easy numerical integrator, for example implementing the [trapezoidal rule](https://en.wikipedia.org/wiki/Trapezoidal_rule) or your favourite alternative, or [look up the pre-written methods](https://docs.scipy.org/doc/scipy/tutorial/integrate.html). Make sure it returns $d_L$ in parsecs and that it uses $H_0$ measured in units of 100 km/s/Mpc (which we called $h$)."
      ]
    },
    {
      "cell_type": "code",
      "execution_count": null,
      "metadata": {
        "id": "QAwegy3UXccK"
      },
      "outputs": [],
      "source": [
        "c = 3*(10**5) # km/s <--- Choose your favourite units, but make sure you're consistent!\n",
        "\n",
        "def dL(z, Omega_m, Omega_l, h): # luminosity distance: in parsecs\n",
        "  H0 = h/10000 # This gives the value for H0 in km/s/pc\n",
        "  OmegaK = 1 - Omega_m - Omega_l\n",
        "  func = (c/H0)*(1.0 + z)\n",
        "  if OmegaK == 0:\n",
        "    return func*D(z, Omega_m, Omega_l, h)\n",
        "  elif OmegaK < 0:\n",
        "    min_sqroot = math.sqrt(-OmegaK)\n",
        "    in_sin = D(z, Omega_m, Omega_l, h)*min_sqroot\n",
        "    sin_func = math.sin(in_sin)\n",
        "    neg_curve = (1/min_sqroot)*sin_func\n",
        "    return func*neg_curve\n",
        "  elif OmegaK > 0:\n",
        "    sqroot = math.sqrt(OmegaK)\n",
        "    in_sinh = D(z, Omega_m, Omega_l, h)*sqroot\n",
        "    sinh_func = math.sinh(in_sinh)\n",
        "    pos_curve = (1/sqroot)*sinh_func\n",
        "    return func*pos_curve\n",
        "\n",
        "def mu(z, Omega_m, Omega_l, h): # distance modulus\n",
        "    return  5*(math.log10(dL(z, Omega_m, Omega_l, h)/10))# <--- YOUR CODE GOES HERE!"
      ]
    },
    {
      "cell_type": "code",
      "source": [
        "print(dL(10, 0.3, 0.4, 0.698))\n",
        "print(mu(10, 0.3, 0.4, 0.698))"
      ],
      "metadata": {
        "id": "lXVvNpT9kNnb",
        "outputId": "1e874fd7-701e-4786-cfcd-1a62c0f0782c",
        "colab": {
          "base_uri": "https://localhost:8080/"
        }
      },
      "execution_count": null,
      "outputs": [
        {
          "output_type": "stream",
          "name": "stdout",
          "text": [
            "102732678559.34897\n",
            "50.05854305832499\n"
          ]
        }
      ]
    },
    {
      "cell_type": "markdown",
      "metadata": {
        "id": "SLWjCnSSXccL"
      },
      "source": [
        "## <font color='deepskyblue'>The Union2.1 Compilation</font>\n",
        "\n",
        "Our source of data is from [Union2.1](http://supernova.lbl.gov/Union/). It is a collection of $580$ SNIa, each observation is comprised of redshift $z$ \n",
        "Our goal today is to use SNIa measurements to constrain the parameters ($h, \\Omega_\\Lambda, \\Omega_m$).\n",
        "\n",
        "In essence, we can calculate for each redshift the theoretical value of $\\mu$ using this equation with the expression for $d_L(z)$ and our model of choice $H(z)$ -- note that we will need to perform a numerical integral! -- and compare this value with observations. A different model would amount to changing the theoretical value of $H(z)$.\n",
        "\n",
        "Let us start by importing and plotting the data:"
      ]
    },
    {
      "cell_type": "code",
      "execution_count": null,
      "metadata": {
        "colab": {
          "base_uri": "https://localhost:8080/"
        },
        "id": "sKb3QGqXTuJ5",
        "outputId": "d30f9f6d-8c02-4fca-b278-e1767c648cf2"
      },
      "outputs": [
        {
          "output_type": "stream",
          "name": "stdout",
          "text": [
            "[           nan 2.84880000e-02 3.53465834e+01 2.23905933e-01\n",
            " 1.28418942e-01]\n"
          ]
        }
      ],
      "source": [
        "dataloc = \"http://supernova.lbl.gov/Union/figures/SCPUnion2.1_mu_vs_z.txt\"\n",
        "\n",
        "# Read in data as numpy array.\n",
        "# Format is [name, redshift, magnitude, magnitude error, and another number?]\n",
        "data = np.genfromtxt(dataloc)\n",
        "\n",
        "# Print the first line as an example. (Note that genfromtxt turns the names into 'Not A Number')\n",
        "print(data[0])"
      ]
    },
    {
      "cell_type": "code",
      "execution_count": null,
      "metadata": {
        "id": "2mvAA83gVIHz"
      },
      "outputs": [],
      "source": [
        "# Extract the redshifts (zs), distance modulus (dist_mod) and magnitude estimated errors (err_dist_mod)\n",
        "zs = data.T[1] # redshift\n",
        "distance_modulus = data.T[2] # distance modulus\n",
        "error_distance_modulus = data.T[3] # errors on distance modulus = sigmas\n"
      ]
    },
    {
      "cell_type": "code",
      "execution_count": null,
      "metadata": {
        "id": "x2hF3drbVPEW"
      },
      "outputs": [],
      "source": [
        "# Let's look at the data, just for fun. \n",
        "# We can look both at the raw data (distance modulus) or calculate the luminosity distance\n",
        "# Note that Numpy allows us to manipulate whole arrays at once with something like:\n",
        "#     array_2 = some_function_of(array_1)\n",
        "\n",
        "# luminosity distance in pc\n",
        "luminosity_distance_pc = 10. * 10.**(distance_modulus / 5.)\n",
        "\n",
        "# and in Mpc\n",
        "luminosity_distance_Mpc = luminosity_distance_pc / 10.**6\n",
        "\n",
        "# and the error on that distance:\n",
        "error_luminosity_distance_Mpc = 5. * (10.**((distance_modulus + error_distance_modulus)/5.-6.) - 10.**((distance_modulus - error_distance_modulus)/5.-6.))"
      ]
    },
    {
      "cell_type": "code",
      "source": [
        "#Omega_m = 0.3\n",
        "#Omega_l = 0.7"
      ],
      "metadata": {
        "id": "C-e332VctGPJ"
      },
      "execution_count": null,
      "outputs": []
    },
    {
      "cell_type": "code",
      "source": [
        "# Calculating the expected values for luminosity distance and the distance modulus\n",
        "Omegam = 0.3\n",
        "Omegal = 0.7\n",
        "lum_dis = []\n",
        "h = 0.698\n",
        "for i in zs:\n",
        "  lum = dL(i, Omegam, Omegal, h)/(10**6) #Converting parsec to mega parsec\n",
        "  lum_dis.append(lum)\n",
        "\n",
        "dist_mod = []\n",
        "for i in zs: \n",
        "  dist_modulus = mu(i, Omegam, Omegal, h)\n",
        "  dist_mod.append(dist_modulus)\n",
        "\n",
        "\n"
      ],
      "metadata": {
        "id": "WeuHHGDotgz_"
      },
      "execution_count": null,
      "outputs": []
    },
    {
      "cell_type": "code",
      "source": [
        "# Plotting the expected values for the distance modulus and luminosity distance\n",
        "plt.subplot(1, 2, 1)\n",
        "plt.xlabel(\"Redshift\")\n",
        "plt.ylabel(\"Distance Modulus\")\n",
        "plt.errorbar(zs, dist_mod,  fmt='o', color='red', ecolor='darkcyan', markersize=4)\n",
        "\n",
        "plt.subplot(1, 2, 2)\n",
        "plt.xlabel(\"Redshift\")\n",
        "plt.ylabel(\"Luminosity Distance [Mpc]\")\n",
        "plt.errorbar(zs, lum_dis, fmt='o', color='red', ecolor='darkcyan', markersize=4)\n",
        "plt.show()"
      ],
      "metadata": {
        "id": "Un9lu2bEyJdx",
        "outputId": "18dc9390-0888-4d95-df80-d4690e06ce38",
        "colab": {
          "base_uri": "https://localhost:8080/",
          "height": 279
        }
      },
      "execution_count": null,
      "outputs": [
        {
          "output_type": "display_data",
          "data": {
            "text/plain": [
              "<Figure size 432x288 with 2 Axes>"
            ],
            "image/png": "[encoded data removed]"
          },
          "metadata": {
            "needs_background": "light"
          }
        }
      ]
    },
    {
      "cell_type": "code",
      "execution_count": null,
      "metadata": {
        "colab": {
          "base_uri": "https://localhost:8080/",
          "height": 334
        },
        "id": "o81D-kOYYwx5",
        "outputId": "21255cf7-195f-4c2b-c01c-9c1c9ad7d9f1"
      },
      "outputs": [
        {
          "output_type": "display_data",
          "data": {
            "text/plain": [
              "<Figure size 1080x360 with 2 Axes>"
            ],
            "image/png": "[encoded data removed]"
          },
          "metadata": {
            "needs_background": "light"
          }
        }
      ],
      "source": [
        "plt.subplots(1, 2, figsize=(15, 5))\n",
        "\n",
        "# Plot distance modulus versus redshift (original data)\n",
        "plt.subplot(1, 2, 1)\n",
        "plt.xlabel(\"Redshift\")\n",
        "plt.ylabel(\"Distance Modulus\")\n",
        "plt.errorbar(zs, distance_modulus, yerr=error_distance_modulus, fmt='o', color='black', ecolor='darkcyan', markersize=4)\n",
        "# Plotting the calculated distance modulus in the same plot in red\n",
        "plt.plot(sorted(zs), list(mu(z, 0.3, 0.7, 0.698) for z in sorted(zs)), c='r')\n",
        "\n",
        "\n",
        "# Plot luminosity distance versus redshift (original data)\n",
        "plt.subplot(1, 2, 2)\n",
        "plt.xlabel(\"Redshift\")\n",
        "plt.ylabel(\"Luminosity Distance [Mpc]\")\n",
        "plt.errorbar(zs, luminosity_distance_Mpc, yerr=error_luminosity_distance_Mpc, fmt='o', color='black', ecolor='darkcyan', markersize=4)\n",
        "# Plotting calculated luminosity distance in same plot in red\n",
        "plt.plot(sorted(zs), list((dL(z, 0.3, 0.7, 0.698)/(10**6)) for z in sorted(zs)), c='r')\n",
        "plt.show()"
      ]
    },
    {
      "cell_type": "markdown",
      "metadata": {
        "id": "Hxy2SP9SXccN"
      },
      "source": [
        "## <font color='deepskyblue'>Bayes' Theorem: Likelihood, Prior, Posterior (and Evidence...)</font>\n",
        "\n",
        "The **conditional probability of A given that B is true** is denoted with $P(A|B)$ (read: *probability of A given B*). \n",
        "Did A happen? Then B has probability $P(B|A)$ of happening.\n",
        "\n",
        "[**Bayes' Theorem**](https://en.wikipedia.org/wiki/Bayes%27_theorem) is simply a reflection of the symmetry of the concept of joint probability:\n",
        "\n",
        "$$\n",
        "P(A|B)P(B) = P(B|A)P(A)\n",
        "$$\n",
        "\n",
        "In physics, our goal is often to determine how likely the values of some parameters $\\theta$ are, given how well they reproduce the data $D$. \n",
        "We write Bayes' theorem in the following equivalent form:\n",
        "\n",
        "$$\n",
        "P(\\theta | D) = \\frac{P(D|\\theta)P(\\theta)}{P(D)}\n",
        "$$\n",
        "\n",
        "The various terms conventionally take the names:\n",
        "\n",
        "$$\n",
        "\\begin{aligned}\n",
        "P(\\theta | D) & && \\text{Posterior}\n",
        "\\\\\n",
        "P(D | \\theta)& && \\text{Likelihood}\n",
        "\\\\\n",
        "P(\\theta) & && \\text{Prior}\n",
        "\\\\\n",
        "P(D) & && \\text{Evidence}\n",
        "\\end{aligned}\n",
        "$$\n",
        "\n",
        "### <font color='deepskyblue'>Prior</font>\n",
        "\n",
        "The *prior* quantifies our degree of prior belief in the model parameters. It can contain the results of previous experiments, or theoretical considerations (for instance, that certain parameters cannot be negative, etc.). \n",
        "\n",
        "We can have *strong priors* about something - the Sun still existing at night, see the comic below - or not.\n",
        "When we do *not* have compelling prior knowledge about a parameter, we generally use a *non-informative* prior probability distribution, most often related to the [uniform distribution](https://en.wikipedia.org/wiki/Continuous_uniform_distribution)\n",
        "\n",
        "$$\n",
        "\\begin{aligned}\n",
        "    \\text{Uniform} & && \\theta \\in \\text{Uniform}[\\theta_{\\rm min}, \\theta_{\\rm max}]\n",
        "    \\\\\n",
        "    \\text{Log Uniform} & && \\log\\theta \\in \\text{Uniform}[\\log\\theta_{\\rm min}, \\log\\theta_{\\rm max}]\n",
        "\\end{aligned}\n",
        "$$\n",
        "\n",
        "You may sometimes hear that \"the prior doesn't matter\". While this is not strictly true, it is however true that in many instances the *likelihood* depends more dramatically on the parameters and will have a dominating contribution to the posterior. You are more than welcome to try different priors for the model parameters and see if and how your results change.\n",
        "\n",
        "### <font color='deepskyblue'>Likelihood</font>\n",
        "\n",
        "The measure of how well our model reproduces the data is the **likelihood** $\\mathcal L$. For normal (=Gaussian), uncorrelated data $\\mu_i$ with errors $\\sigma_i$ ($i = \\{1,580\\}$), the likelihood is related to the famous [**chi-squared**](https://en.wikipedia.org/wiki/Chi-square_distribution) via\n",
        "\n",
        "$$\n",
        "P(D | \\theta) \\equiv \\mathcal L = \\exp\\left(-\\frac{\\chi^2}{2}\\right)\n",
        "\\qquad\n",
        "\\qquad\n",
        "\\boxed{\n",
        "\\chi^2 \\equiv \\sum_{i=1}^{580} \\frac{\\left(\\mu_i^{(\\rm theor)} - \\mu_i^{(\\rm obs)}\\right)^2}{\\sigma_i^2}\n",
        "}\n",
        "\\tag{5}\n",
        "$$\n",
        "\n",
        "A *high likelihood* corresponds to a *low chi squared*.\n",
        "\n",
        "In principle, we could attack the problem brute-force: create a grid of values for $h$, $\\Omega_m$, $\\Omega_\\Lambda$, calculate the likelihood for each combination, and create a profile for the likelihood. \n",
        "\n",
        "In practical cases, however, this is not only sub-optimal but sometimes **impossible**. Think of complicated models with 20+ free parameters (this is not that unusual in physics, by the way). Even a very coarse grained grid of 100 values for each parameter would result in more than $10^{40}$ (!!!) different parameter combination to be tested. You can probably understand why this is undesirable.\n",
        "\n",
        "### <font color='deepskyblue'>Evidence</font>\n",
        "\n",
        "This is the tricky bit. The evidence, which is \"*the probability of observing certain data*\", is not something that is easy to evaluate or interpret. This looks like a serious limitation to finding the:\n",
        "\n",
        "\n",
        "### <font color='deepskyblue'>Posterior</font>\n",
        "\n",
        "What does the data tell us about the model parameters? The answer is the *posterior probability distribution*, often (but not necessarily) expressed as (average $\\pm$ standard deviation)\n",
        "\n",
        "$$\n",
        "\\theta_i = \\bar\\theta_i \\pm \\sigma_i\n",
        "$$\n",
        "\n",
        "In other words, the posterior tells us how likely it is for the model parameters to have certain values, *given that we observe the data* $D$.\n",
        "\n",
        "*This is the final goal of our analysis!*\n",
        "\n",
        "<br>\n",
        "\n",
        "![title](http://1.bp.blogspot.com/-tTx4HDejSww/ULcTeK9_V_I/AAAAAAAAA8g/PCYOH-eXGbk/s1600/frequentists_vs_bayesians.png)\n",
        "![title](https://i.redd.it/5r0hwixt0m931.jpg)"
      ]
    },
    {
      "cell_type": "markdown",
      "metadata": {
        "id": "lymI_LaObhcU"
      },
      "source": [
        "## <font color='deepskyblue'>Markov-Chain Monte Carlo</font>\n",
        "\n",
        "Markov-Chain Monte Carlo techniques are a class of methods to sample a probability distribution $P(x)$ - in our case $P(\\theta | D)$ - provided that we can calculate a density $\\mathcal F(x)$ **that is proportional to it** - in our case $P(\\theta)P(D|\\theta)$ = likelihood $\\times$ prior. Among these, a very popular one is the [**Metropolis-Hastings**](https://en.wikipedia.org/wiki/Metropolis%E2%80%93Hastings_algorithm) algorithm, which is what we will use.\n",
        "\n",
        "Schematically, the algorithm works as follows:\n",
        "* Start with an $n$-tuple of parameters $\\theta_{\\rm old} = \\{\\theta_1, \\theta_2, \\dots\\}_{\\rm old}$ (in our case $\\theta = \\{h,\\Omega_m,\\Omega_\\Lambda\\}$) and calculate the $\\mathcal F_{\\rm old}$\n",
        "* Propose a new set of parameters $\\theta_{\\rm prop}$, calculate the new corresponding $\\mathcal F_{\\rm prop}$. How you propose the new parameters is not essential as long as the probability of going from one set of parameters to the next is the same as the inverse: $P(\\theta_a \\to \\theta_b) = P(\\theta_b \\to \\theta_a)$. For this, we normally take Gaussian displacements with some (relatively small) standard deviation.\n",
        "* Compare the new and old likelihoods-priors:\n",
        "    * If $\\mathcal F_{\\rm prop} > \\mathcal F_{\\rm old}$, accept the step: $\\theta_{\\rm new} = \\theta_{\\rm prop}$\n",
        "    * Otherwise, accept with probability $P_{\\rm accept} = \\mathcal F_{\\rm prop}/\\mathcal F_{\\rm old}$\n",
        "* If accepted, $\\theta_{\\rm new} = \\theta_{\\rm prop}$ and record the step; otherwise, $\\theta_{\\rm new} = \\theta_{\\rm old}$ (no re-recording)\n",
        "* Update $\\theta_{\\rm old} = \\theta_{\\rm new}$\n",
        "* Repeat\n",
        "\n",
        "The MC chain keeps going until the desired number of steps or, ideally, when a suitable convergence test, like for example the [Gelman-Rubin test](https://bookdown.org/rdpeng/advstatcomp/monitoring-convergence.html), is satisfied. \n",
        "Today we will just set a limit to the total number of steps, but please feel free to implement and test your favourite convergence test!\n",
        "\n",
        "Looking at equation (5), you can convince yourself that\n",
        "$$\n",
        "\\frac{\\mathcal L_a}{\\mathcal L_b} = \\exp\\left(\\frac{\\chi_b^2 - \\chi_a^2}{2}\\right)\n",
        "$$\n",
        "\n",
        "(This is useful because $\\chi^2$ can be large, so we want to avoid the likelihoods evaluating to `0.` -- computers don't like dividing by zero, unfortunately)\n",
        "\n",
        " \n",
        "* <font color=\"deepskyblue\"> Start with an $n$-tuple of parameters $\\theta_{\\rm old} = \\{\\theta_1, \\theta_2, \\dots\\}_{\\rm old}$ (in our case $\\theta = \\{h,\\Omega_m,\\Omega_\\Lambda\\}$) and the corresponding chi squared $\\chi_{\\rm old}^2$ (to be clear, for us this implies calculating a series of 580 integrals and comparing each with the observed values) </font>\n",
        "* <font color=\"deepskyblue\"> Propose new parameters $\\theta_{\\rm prop}$ and calculate the corresponding chi squared $\\chi_{\\rm prop}^2$</font>\n",
        "* <font color=\"deepskyblue\"> Draw a random number $r \\in [0,1]$</font>\n",
        "* <font color=\"deepskyblue\"> Accept the step if \n",
        "$$\n",
        "r < \\exp\\left(\\frac{\\chi_{\\rm old}^2 - \\chi_{\\rm prop}^2}{2}\\right) \\frac{P(\\theta)_{\\rm prop}}{P(\\theta)_{\\rm old}}\n",
        "$$</font>\n",
        "    * <font color=\"deepskyblue\"> If accepted, update $\\theta_{\\rm old} = \\theta_{\\rm prop}$, and record; otherwise, $\\theta_{\\rm new} = \\theta_{\\rm old}$ (no re-recording)</font>\n",
        "    * <font color=\"deepskyblue\">If you want, you can keep a record of the best fit (lowest $\\chi^2$), but this is not the specific purpose of MCMC! We are exploring the parameter space and sampling a _posterior distribution_, not just finding the best fit</font>\n",
        "* <font color=\"deepskyblue\"> Repeat</font>"
      ]
    },
    {
      "cell_type": "code",
      "execution_count": null,
      "metadata": {
        "id": "xvF9UhsMXccR",
        "scrolled": true,
        "colab": {
          "base_uri": "https://localhost:8080/"
        },
        "outputId": "e1115b28-3d0f-4b3a-c81d-7f3744a20462"
      },
      "outputs": [
        {
          "output_type": "stream",
          "name": "stdout",
          "text": [
            "523512.77091840684\n"
          ]
        }
      ],
      "source": [
        "import random as rnd\n",
        "filename = \"MC_Chain_SNIa.dat\" # Or choose your favourite filename, obviously\n",
        "file = open(filename,\"w\")\n",
        "\n",
        "N_steps = 500\n",
        "r = rnd.random()\n",
        "# Start from some very bad values, to show that the MCMC works anyway!\n",
        "Omega_M = 0. # \n",
        "Omega_L = 0.\n",
        "h = 0.1\n",
        "# PUT YOUR MCMC CODE HERE!\n",
        "H0 = h*100/(10**6) #km/s/pc\n",
        "Chi_square = 0\n",
        "# Defining a function for calculating the chi-square\n",
        "def chi2(z, omegaM, omegaL, h):\n",
        "  Chi_square = 0\n",
        "  for i in range(N_steps):\n",
        "    Chi_square += ((((mu(z, omegaM, omegaL, h))-distance_modulus[i])**2)/((error_distance_modulus[i])**2))\n",
        "  return Chi_square\n",
        "print(chi2(1, 0.3, 0.7, 0.698))\n",
        "# Defining theta\n",
        "theta = {h, Omega_M, Omega_L}\n",
        "# Defining the prior and creating new values for h, omega matter and omega lambda for each step\n",
        "def prior(h, omegaM, omegaL, sig):\n",
        "  new_h = targetdist(np.random.normal(loc = h, scale = sig)) # Generating new h\n",
        "  Ph = 1/(new_h - h)\n",
        "  new_OM = targetdist(np.random.normal(loc = omegaM, scale = sig)) # Generating new omegaM\n",
        "  P_OM = 1/(new_OM - omegaM)\n",
        "  new_OL = targetdist(np.random.normal(loc = omegaL, scale = sig)) # Generating new omegaL\n",
        "  P_OL = 1/(new_OL - omegaL)\n",
        "  return Ph*P_OM*P_OL, new_h, new_OM, new_OL\n",
        "\n",
        "# Defining a function for accepting or rejecting. Source for the idea: https://youtu.be/MxI78mpq_44\n",
        "def Acc_rej(z, h, omega_M, omega_L, sig):\n",
        "  r = rnd.random() # Generating a random number\n",
        "  pri, newh, newOM, newOL = prior(h, omega_M, omega_L, sig) # setting the values for the prior, new h, new omega_M and new omega_L\n",
        "  chi2_old = chi2(z, h, omega_M, omega_L) # Defining the old chi-square\n",
        "  chi2_new = chi2(z, newh, newOM, newOL) # Defining the new chi-square\n",
        "  prob = exp((chi_old - chi_new)/2)*pri # Defining the probability based on which the step is accepted or not\n",
        "  if r<=prob: # In this case, the step is accepted and the new values are kept\n",
        "    true_h = newh\n",
        "    OmegaM = newOM\n",
        "    OmegaL = newOL\n",
        "    a = 1 # For tracking if the step is accepted\n",
        "  else: # In this case, the step is not accepted. The old values are kept\n",
        "    true_h = h\n",
        "    OmegaM = omega_M\n",
        "    OmegaL = omega_L\n",
        "    a = 0 # For tracking if the step is rejected\n",
        "  return true_h, OmegaM, OmegaL\n",
        "\n",
        "# Testing the MCMC with different values for h, omega matter and omega lambda\n",
        "Steps = [0.1, 0.2, 0.3, 0.4, 0.5, 0.6, 0.7, 0.8, 0.9, 1]\n",
        "corr_values = []\n",
        "for i in Steps: \n",
        "  corr_values = Acc_rej(1, i, i, i, 0.68)\n",
        "\n",
        "file.close();"
      ]
    },
    {
      "cell_type": "markdown",
      "metadata": {
        "id": "qw52S4G0XccR"
      },
      "source": [
        "After completion of the programme, your MC chain will (*hopefully*) look something like this:\n",
        "\n",
        "`#Omega_m  Omega_L  h`\n",
        "\n",
        "`0.297     0.703    0.698`\n",
        "\n",
        "`0.285     0.715    0.701`\n",
        "\n",
        "`0.288     0.712    0.699`\n",
        "\n",
        "`...`"
      ]
    },
    {
      "cell_type": "markdown",
      "metadata": {
        "id": "dB-wD3cLXccR"
      },
      "source": [
        "## <font color='deepskyblue'>Plotting: GetDist</font>\n",
        "\n",
        "We will do the plots with [`GetDist`](https://getdist.readthedocs.io/en/latest/plot_gallery.html).\n",
        "\n",
        "The plot gallery contains a lot of useful examples, you should be able to read them fairly easily and see which applies to your situation. Look for both (triangle) plots and for parameter estimation.\n",
        "\n",
        "Note that many `GetDist` functions require arguments of type `MCSamples`; make sure you convert your lists accordingly.\n",
        "\n",
        "<p>\n",
        "<font color='deepskyblue'>\n",
        "Look at your results. Do you obtain $\\Omega_\\Lambda \\neq 0$ to a high degree of significance? \n",
        "\n",
        "If yes, then my dear friend, you have **DISCOVERED THE ACCELERATED EXPANSION OF THE UNIVERSE AND WON THE NOBEL PRIZE IN PHYSICS 2011!**\n",
        "</font>\n",
        "</p>"
      ]
    },
    {
      "cell_type": "code",
      "source": [
        "# With MCMC\n",
        "h, OmegaM, OmegaL = corr_values\n",
        "Omegak = 1. - OmegaM - OmegaL\n",
        "\n",
        "# Here let's just define variable names, labels, and so on\n",
        "my_labels = [r'h', r'\\Omega_m', r'\\Omega_\\Lambda', r'\\Omega_k']\n",
        "my_names = ['h', 'OmegaM', 'OmegaL', 'Omegak']\n",
        "my_dim = 4 # The number of variables we're plotting\n",
        "\n",
        "\n",
        "my_samples = np.array([h, OmegaM, OmegaL, Omegak]) # This creates a higher-dimensional array with all our data,\n",
        "my_samples = np.transpose(np.reshape(my_samples,(my_dim,int(my_samples.size/my_dim)))) # and this reshapes it in a convenient form...\n",
        "samples1 = MCSamples(samples = my_samples, labels = my_labels, names = my_names) # ... to create an \"MCSamples\" data type, which GetDist can use\n",
        "\n",
        "conf_level = 0.6827 # The usual 1-sigma confidence level. You can change to 2- or 3-sigma if you want\n",
        "\n",
        "# Let's print a table with the 1D posteriors (confidence levels)\n",
        "for nam in my_names:\n",
        "    print(round(samples1.confidence(nam,(1.-conf_level)/2.,upper=False),2), \\\n",
        "          \" < \", nam , \" < \", round(samples1.confidence(nam,(1.-conf_level)/2.,upper=True),2),\\\n",
        "          \" at \" , int(100*conf_level),\"\\b% CL\")\n",
        "print(\"\\n\\n\")\n",
        "\n",
        "#Triangle corner plot\n",
        "j = plots.getSubplotPlotter(subplot_size=3)\n",
        "j.settings.axes_labelsize = 22\n",
        "j.settings.axes_fontsize = 16\n",
        "j.triangle_plot(samples1, filled = True, title_limit=1)"
      ],
      "metadata": {
        "id": "AVGTUQLBMaIe"
      },
      "execution_count": null,
      "outputs": []
    },
    {
      "cell_type": "code",
      "execution_count": null,
      "metadata": {
        "colab": {
          "base_uri": "https://localhost:8080/",
          "height": 891
        },
        "id": "4JIvURq9XccR",
        "outputId": "daf9c4b8-5c1a-4fe0-9605-d473b8d541ca"
      },
      "outputs": [
        {
          "output_type": "stream",
          "name": "stdout",
          "text": [
            "Removed no burn in\n",
            "0.67  <  h  <  0.73  at  68 \b% CL\n",
            "0.2  <  OmegaM  <  0.4  at  68 \b% CL\n",
            "0.6  <  OmegaL  <  0.8  at  68 \b% CL\n",
            "-0.13  <  Omegak  <  0.14  at  68 \b% CL\n",
            "\n",
            "\n",
            "\n"
          ]
        },
        {
          "output_type": "display_data",
          "data": {
            "text/plain": [
              "<Figure size 864x864 with 10 Axes>"
            ],
            "image/png": "[encoded data removed]"
          },
          "metadata": {
            "needs_background": "light"
          }
        }
      ],
      "source": [
        "# RANDOMLY GENERATED\n",
        "# These are just randomly generated values. YOU WILL HAVE TO USE THE RESULTS OF YOUR MCMC CHAIN!\n",
        "h, OmegaM, OmegaL = np.random.normal(0.7, 0.03, N_steps), np.random.normal(0.3, 0.1, N_steps), np.random.normal(0.7, 0.1, N_steps)\n",
        "Omegak = 1. - OmegaM - OmegaL\n",
        "\n",
        "# Here let's just define variable names, labels, and so on\n",
        "my_labels = [r'h', r'\\Omega_m', r'\\Omega_\\Lambda', r'\\Omega_k']\n",
        "my_names = ['h', 'OmegaM', 'OmegaL', 'Omegak']\n",
        "my_dim = 4 # The number of variables we're plotting\n",
        "\n",
        "my_samples = np.array([h, OmegaM, OmegaL, Omegak]) # This creates a higher-dimensional array with all our data,\n",
        "my_samples = np.transpose(np.reshape(my_samples,(my_dim,int(my_samples.size/my_dim)))) # and this reshapes it in a convenient form...\n",
        "samples1 = MCSamples(samples = my_samples, labels = my_labels, names = my_names) # ... to create an \"MCSamples\" data type, which GetDist can use\n",
        "\n",
        "conf_level = 0.6827 # The usual 1-sigma confidence level. You can change to 2- or 3-sigma if you want\n",
        "\n",
        "# Let's print a table with the 1D posteriors (confidence levels)\n",
        "for nam in my_names:\n",
        "    print(round(samples1.confidence(nam,(1.-conf_level)/2.,upper=False),2), \\\n",
        "          \" < \", nam , \" < \", round(samples1.confidence(nam,(1.-conf_level)/2.,upper=True),2),\\\n",
        "          \" at \" , int(100*conf_level),\"\\b% CL\")\n",
        "print(\"\\n\\n\")\n",
        "\n",
        "#Triangle corner plot\n",
        "j = plots.getSubplotPlotter(subplot_size=3)\n",
        "j.settings.axes_labelsize = 22\n",
        "j.settings.axes_fontsize = 16\n",
        "j.triangle_plot(samples1, filled = True, title_limit=1)"
      ]
    },
    {
      "cell_type": "markdown",
      "metadata": {
        "id": "OAer6k-yngup"
      },
      "source": [
        "## <font color='deepskyblue'>Further Improvements</font>\n",
        "\n",
        "There are many ways in which you can improve your code and/or your data visualisation. Some ideas, in random order:\n",
        "\n",
        "* Modify your priors and compare your results. For instance:\n",
        "  * Change to log-flat priors for $h$ and/or $\\Omega_m$, namely displace them in log-space instead of linear space:\n",
        "  $$\n",
        "  \\log(h_{\\rm new}) = \\log(h_{\\rm old}) + \\delta\n",
        "  $$\n",
        "  where $\\delta$ a random variable of mean 0\n",
        "  * Use priors from other cosmological probes, for example the [Planck 2018 results](https://arxiv.org/abs/1807.06209):\n",
        "  $$\n",
        "  \\Omega_m = 0.315 \\pm 0.007\\,,~\\dots\n",
        "  $$\n",
        "* Implement a Gelman-Rubin (or alternative) convergence test\n",
        "* Change colours and other properties of your triangle plot\n",
        "* Re-plot the data with your theoretical fits: you can try both your best fit, and some $1\\sigma$ \"error bars\"\n",
        "* Split your data in redshift bins and repeat the analysis for each bin individually.\n",
        "<br> _(What do you notice? Which redshift bins give us the most accurate detection of the cosmological parameters?)_"
      ]
    }
  ],
  "metadata": {
    "colab": {
      "collapsed_sections": [
        "Hxy2SP9SXccN"
      ],
      "provenance": [],
      "include_colab_link": true
    },
    "kernelspec": {
      "display_name": "Python 3 (ipykernel)",
      "language": "python",
      "name": "python3"
    },
    "language_info": {
      "codemirror_mode": {
        "name": "ipython",
        "version": 3
      },
      "file_extension": ".py",
      "mimetype": "text/x-python",
      "name": "python",
      "nbconvert_exporter": "python",
      "pygments_lexer": "ipython3",
      "version": "3.10.0"
    }
  },
  "nbformat": 4,
  "nbformat_minor": 0
}